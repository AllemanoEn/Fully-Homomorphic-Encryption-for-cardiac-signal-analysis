{
 "cells": [
  {
   "cell_type": "markdown",
   "metadata": {},
   "source": [
    "## AF detection using RRI variance\n",
    "Based on this paper https://ieeexplore.ieee.org/stamp/stamp.jsp?tp=&arnumber=1588177"
   ]
  },
  {
   "cell_type": "code",
   "execution_count": 23,
   "metadata": {},
   "outputs": [],
   "source": [
    "import numpy as np\n",
    "from concrete import fhe"
   ]
  },
  {
   "attachments": {},
   "cell_type": "markdown",
   "metadata": {},
   "source": [
    "### Load r_peak x coordinate "
   ]
  },
  {
   "cell_type": "code",
   "execution_count": 24,
   "metadata": {},
   "outputs": [
    {
     "name": "stdout",
     "output_type": "stream",
     "text": [
      "--- ECG signal infos ---\n",
      "List of R peaks:  [  88  210  385  510  701 1022 1335 1636 1934 2231 2537 2849 3163 3477\n",
      " 3788]\n",
      "Number of R peaks:  15\n",
      "Duration of the signal:  10.522222222222222 s\n",
      "Sampling frequency: 360\n",
      "------------------------\n"
     ]
    }
   ],
   "source": [
    "coord_x_rpeaks = np.array(np.load('Pan_Tompkins_QRS_Detection/extracted_data/coord_x_r_peaks_no_107.npy'))\n",
    "print(\"--- ECG signal infos ---\")\n",
    "print(\"List of R peaks: \", coord_x_rpeaks)\n",
    "print(\"Number of R peaks: \", len(coord_x_rpeaks))\n",
    "print(\"Duration of the signal: \", coord_x_rpeaks[-1]/360, \"s\")\n",
    "print(\"Sampling frequency: 360\")\n",
    "print(\"------------------------\")"
   ]
  },
  {
   "attachments": {},
   "cell_type": "markdown",
   "metadata": {},
   "source": [
    "![image.png](./Pan_Tompkins_QRS_Detection/extracted_data/r_peaks_no_107.png)"
   ]
  },
  {
   "cell_type": "code",
   "execution_count": 25,
   "metadata": {},
   "outputs": [],
   "source": [
    "def compute_rri(coord_x_rpeaks, verbose=False):\n",
    "    \"\"\"\n",
    "    Compute the R peaks intervals using numpy.diff. It represents the first step of the algorithm\n",
    "\n",
    "    Parameters\n",
    "    ----------\n",
    "    coord_x_rpeaks : list of x coordinates of R peaks\n",
    "    verbose : if True, print the R peaks intervals\n",
    "\n",
    "    Returns\n",
    "    -------\n",
    "    rri : list of x coordinates of R peaks intervals\n",
    "    \"\"\"\n",
    "    rri = np.diff(coord_x_rpeaks)\n",
    "    if verbose:\n",
    "        print(\"RRI: \", rri)\n",
    "    return rri\n",
    "\n",
    "def convert_rri_to_seconds(rri, fs=360, verbose=False):\n",
    "    \"\"\"\n",
    "    Convert RRI to seconds\n",
    "\n",
    "    Parameters\n",
    "    ----------\n",
    "    rri : list of x coordinates of R peaks intervals\n",
    "    fs : sampling frequency\n",
    "    verbose : if True, print the R peaks intervals in seconds\n",
    "\n",
    "    Returns\n",
    "    -------\n",
    "    rri : list of x coordinates of R peaks intervals in seconds\n",
    "    \"\"\"\n",
    "    rri_to_seconds = np.divide(rri, fs)\n",
    "    if verbose:\n",
    "        print(\"RRI to seconds: \", rri_to_seconds)\n",
    "    return rri_to_seconds\n",
    "\n",
    "def compute_moving_average(rri, verbose=False):\n",
    "    \"\"\"\n",
    "    Compute the moving average of RRI. It represents the part 1 of the second step of the algorithm\n",
    "\n",
    "    Parameters\n",
    "    ----------\n",
    "    rri : list of R peaks intervals in seconds\n",
    "    verbose : if True, print the moving average of RRI\n",
    "\n",
    "    Returns\n",
    "    -------\n",
    "    moving_average : list of moving average for each RRI\n",
    "    \"\"\"\n",
    "    moving_average = []\n",
    "\n",
    "    # Compute the moving average of RRI\n",
    "    for i in range(len(rri)):\n",
    "        if i == 0:\n",
    "            moving_average.append(rri[i])\n",
    "        else:\n",
    "            moving_average.append(0.75 * moving_average[i-1] + 0.25 * rri[i])\n",
    "    \n",
    "    if verbose:\n",
    "        print(\"Moving average: \", moving_average)\n",
    "    \n",
    "    return moving_average\n",
    "\n",
    "def compute_moving_average_to_int(rri, verbose=False):\n",
    "    moving_average = []\n",
    "\n",
    "    # Compute the moving average of RRI\n",
    "    for i in range(len(rri)):\n",
    "        if i == 0:\n",
    "            moving_average.append(rri[i])\n",
    "        else:\n",
    "            moving_average.append((0.75 * moving_average[i-1] + 0.25 * rri[i]).astype(np.int64))\n",
    "    \n",
    "    if verbose:\n",
    "        print(\"Moving average: \", moving_average)\n",
    "    \n",
    "    return moving_average\n",
    "\n",
    "def normalize_rri(rri, mvg_average, verbose=False):\n",
    "    \"\"\"\n",
    "    Normalize each RRI. It represents the part 2 of the second step of the algorithm\n",
    "\n",
    "    Parameters\n",
    "    ----------\n",
    "    rri : list of R peaks intervals in seconds\n",
    "    mvg_average : list of moving average for each RRI\n",
    "    verbose : if True, print the normalized RRI\n",
    "\n",
    "    Returns\n",
    "    -------\n",
    "    rri_norm : list of normalized RRI\n",
    "    \"\"\"\n",
    "    rri_norm = []\n",
    "\n",
    "    # normalize each rri \n",
    "    for i in range(len(rri)):\n",
    "        rri_norm.append(rri[i]*100 / mvg_average[i])\n",
    "    \n",
    "    if verbose:\n",
    "        print(\"Normalized RRI: \", rri_norm)\n",
    "    \n",
    "    return rri_norm\n",
    "\n",
    "def compute_rri_variance(rri_norm, verbose=False):\n",
    "    \"\"\"\n",
    "    Compute the variance of the normalized RRI. It represents the third step of the algorithm\n",
    "\n",
    "    Parameters\n",
    "    ----------\n",
    "    rri_norm : list of normalized RRI\n",
    "    verbose : if True, print the variance of the normalized RRI\n",
    "\n",
    "    Returns\n",
    "    -------\n",
    "    variance : variance of the normalized RRI\n",
    "    \"\"\"\n",
    "    \n",
    "    # compute the mean of the normalized rri\n",
    "    mean_rri_norm = np.sum(rri_norm) / len(rri_norm)\n",
    "\n",
    "    # compute the sum of the formula (the orginal formula use the absolute value before squaring, we should maybe avoid it with FHE)\n",
    "    sum_formula = np.sum((abs(rri_norm - mean_rri_norm))**2)\n",
    "\n",
    "    # compute the variance\n",
    "    variance = sum_formula / (len(rri_norm)-1)\n",
    "\n",
    "    if verbose:\n",
    "        print(\"Mean of the normalized RRI: \", mean_rri_norm)\n",
    "        print(\"Variance of the normalized RRI: \", variance)\n",
    "\n",
    "    return variance\n",
    "\n",
    "def af_detection(variance, threshold=200, verbose=False):\n",
    "    \"\"\"\n",
    "    Detect AF using the variance of the normalized RRI. \n",
    "    According to the article, a typical threshold is 200. \n",
    "    It represents the fourth step of the algorithm\n",
    "\n",
    "    Parameters\n",
    "    ----------\n",
    "    variance : variance of the normalized RRI\n",
    "    threshold : threshold used to detect AF\n",
    "    verbose : if True, print the details of the AF detection\n",
    "\n",
    "    Returns\n",
    "    -------\n",
    "    af : True if AF is detected, False otherwise\n",
    "    \"\"\"\n",
    "\n",
    "    close_to_threshold = False\n",
    "\n",
    "    if variance > threshold:\n",
    "        af = True\n",
    "        # Check if the variance is close to the threshold\n",
    "        if variance < threshold*1.1:\n",
    "            close_to_threshold = True\n",
    "    else:\n",
    "        af = False\n",
    "        # Check if the variance is close to the threshold\n",
    "        if variance > threshold*0.9:\n",
    "            close_to_threshold = True\n",
    "\n",
    "    if verbose:\n",
    "        print(\"-------------------\")\n",
    "    \n",
    "        if close_to_threshold:\n",
    "            print(\"WARNING : The variance is close to the threshold\")\n",
    "\n",
    "        if af:\n",
    "            print(\"AF detected, the variance is higher than the threshold\")\n",
    "        else:\n",
    "            print(\"AF not detected, the variance is lower than the threshold\")\n",
    "\n",
    "        print(\"Variance: \", variance)\n",
    "        print(\"Threshold: \", threshold)\n",
    "        print(\"-------------------\")\n",
    "    \n",
    "    return af\n"
   ]
  },
  {
   "attachments": {},
   "cell_type": "markdown",
   "metadata": {},
   "source": [
    "### Implementation of the algorithm described in [this paper](https://ieeexplore.ieee.org/stamp/stamp.jsp?tp=&arnumber=1588177)\n",
    "Step 5 is not implemented, see my report for more details."
   ]
  },
  {
   "cell_type": "code",
   "execution_count": 29,
   "metadata": {},
   "outputs": [
    {
     "name": "stdout",
     "output_type": "stream",
     "text": [
      "RRI to seconds:  [0.33888889 0.48611111 0.34722222 0.53055556 0.89166667 0.86944444\n",
      " 0.83611111 0.82777778 0.825      0.85       0.86666667 0.87222222\n",
      " 0.87222222 0.86388889]\n",
      "Moving average:  [122, 135, 132, 146, 189, 220, 240, 254, 264, 274, 283, 290, 296, 299]\n",
      "Normalized RRI:  [100.0, 129.62962962962962, 94.6969696969697, 130.82191780821918, 169.84126984126985, 142.27272727272728, 125.41666666666667, 117.32283464566929, 112.5, 111.67883211678833, 110.24734982332156, 108.27586206896552, 106.08108108108108, 104.0133779264214]\n",
      "Mean of the normalized RRI:  118.7713227555521\n",
      "Variance of the normalized RRI:  388.6966013131729\n",
      "-------------------\n",
      "AF detected, the variance is higher than the threshold\n",
      "Variance:  388.6966013131729\n",
      "Threshold:  200\n",
      "-------------------\n"
     ]
    }
   ],
   "source": [
    "# Step 1\n",
    "# Fetch the interval between each R peak (RRI)\n",
    "rri = compute_rri(coord_x_rpeaks)\n",
    "\n",
    "# Convert RRI to seconds\n",
    "rri_in_sec = convert_rri_to_seconds(rri,verbose=True)\n",
    "\n",
    "# Step 2.1\n",
    "# Compute the moving average of RRI\n",
    "#mvg_average = compute_moving_average(rri, verbose=True)\n",
    "mvg_average = compute_moving_average_to_int(rri, verbose=True)\n",
    "\n",
    "# Step 2.2\n",
    "# Normalize each RRI\n",
    "rri_norm = normalize_rri(rri, mvg_average, verbose=True)\n",
    "\n",
    "# Step 3\n",
    "# Compute the variance of the normalized RRI\n",
    "variance = compute_rri_variance(rri_norm, verbose=True)\n",
    "\n",
    "# Step 4\n",
    "# Detect AF using the variance of the normalized RRI\n",
    "af_detected = af_detection(variance, verbose=True)\n"
   ]
  },
  {
   "attachments": {},
   "cell_type": "markdown",
   "metadata": {},
   "source": [
    "The mean is typically calculated as x.sum() / N, where N = len(x). If, however, ddof is specified, the divisor N - ddof is used instead. In standard statistical practice, ddof=1 provides an unbiased estimator of the variance of a hypothetical infinite population. ddof=0 provides a maximum likelihood estimate of the variance for normally distributed variables."
   ]
  },
  {
   "cell_type": "code",
   "execution_count": 27,
   "metadata": {},
   "outputs": [],
   "source": [
    "# Check with numpy formula if the result is the same\n",
    "assert variance == np.var(rri_norm, ddof=1)"
   ]
  },
  {
   "attachments": {},
   "cell_type": "markdown",
   "metadata": {},
   "source": [
    "### Fully Homomorphic Encryption"
   ]
  },
  {
   "attachments": {},
   "cell_type": "markdown",
   "metadata": {},
   "source": [
    "Detection of AF (Step 4)"
   ]
  },
  {
   "cell_type": "code",
   "execution_count": 6,
   "metadata": {},
   "outputs": [],
   "source": [
    "@fhe.compiler({\"variance\": \"encrypted\", \"threshold\": \"encrypted\"})\n",
    "def af_detection_fhe(variance,threshold):\n",
    "    return variance > threshold\n",
    "\n",
    "inputset = [(np.random.randint(1000),200),\n",
    "            (np.random.randint(1000),200),\n",
    "            (np.random.randint(1000),200)]\n",
    "\n",
    "circuit = af_detection_fhe.compile(inputset)"
   ]
  },
  {
   "cell_type": "code",
   "execution_count": 7,
   "metadata": {},
   "outputs": [],
   "source": [
    "encrypted_data = circuit.run(circuit.encrypt(201,200))"
   ]
  },
  {
   "cell_type": "code",
   "execution_count": 8,
   "metadata": {},
   "outputs": [
    {
     "name": "stdout",
     "output_type": "stream",
     "text": [
      "1\n"
     ]
    }
   ],
   "source": [
    "clear_data = circuit.decrypt(encrypted_data)\n",
    "print(clear_data)"
   ]
  },
  {
   "attachments": {},
   "cell_type": "markdown",
   "metadata": {},
   "source": [
    "Compute variance function (Step 3)"
   ]
  },
  {
   "cell_type": "code",
   "execution_count": 10,
   "metadata": {},
   "outputs": [],
   "source": [
    "@fhe.compiler({\"rri_norm\": \"encrypted\"})\n",
    "def compute_rri_variance_fhe(rri_norm):\n",
    "\n",
    "    rri_norm_len = rri_norm.size\n",
    "\n",
    "    mean_rri_norm = np.sum(rri_norm) // rri_norm_len\n",
    "\n",
    "    sum_formula = np.sum((abs(rri_norm - mean_rri_norm))**2)\n",
    "\n",
    "    variance = sum_formula // (rri_norm_len-1)\n",
    "    \n",
    "    return variance\n",
    "\n",
    "rri_norm_max_value = np.max(rri_norm)\n",
    "rri_norm_max_value_rounded = rri_norm_max_value + (50 - rri_norm_max_value % 50)\n",
    "\n",
    "rri_norm_list_size = len(rri_norm)\n",
    "\n",
    "inputset = [np.random.randint(rri_norm_max_value_rounded, size=rri_norm_list_size),\n",
    "            np.random.randint(rri_norm_max_value_rounded, size=rri_norm_list_size),\n",
    "            np.random.randint(rri_norm_max_value_rounded, size=rri_norm_list_size)]\n",
    "\n",
    "circuit = compute_rri_variance_fhe.compile(inputset)"
   ]
  },
  {
   "cell_type": "code",
   "execution_count": 11,
   "metadata": {},
   "outputs": [],
   "source": [
    "# convert rri_norm list to a list of int\n",
    "rri_norm_int = [int(np.round(i)) for i in rri_norm]\n",
    "\n",
    "encrypted_data = circuit.run(circuit.encrypt(rri_norm_int))"
   ]
  },
  {
   "cell_type": "code",
   "execution_count": 12,
   "metadata": {},
   "outputs": [
    {
     "name": "stdout",
     "output_type": "stream",
     "text": [
      "390\n"
     ]
    }
   ],
   "source": [
    "clear_data = circuit.decrypt(encrypted_data)\n",
    "print(clear_data)"
   ]
  },
  {
   "attachments": {},
   "cell_type": "markdown",
   "metadata": {},
   "source": [
    "Normalization (Step 2.2)\n",
    "\n",
    "That is not possible with this framework, because it does not support division between two encrypted values."
   ]
  },
  {
   "attachments": {},
   "cell_type": "markdown",
   "metadata": {},
   "source": [
    "Moving average function (Step 2.1)"
   ]
  },
  {
   "cell_type": "code",
   "execution_count": 30,
   "metadata": {},
   "outputs": [],
   "source": [
    "@fhe.compiler({\"rri\": \"encrypted\"})\n",
    "def compute_moving_average_fhe(rri):\n",
    "    \n",
    "    rri_len = rri.size\n",
    "    moving_average = fhe.zeros(rri_len)\n",
    "\n",
    "    moving_average[0] = rri[0]\n",
    "\n",
    "    for i in range(1, rri_len):\n",
    "        \n",
    "        moving_average[i] = np.floor_divide(np.multiply(moving_average[i-1], 3) + rri[i], 4)\n",
    "\n",
    "    \n",
    "    return moving_average\n",
    "\n",
    "rri_max_value = np.max(rri)\n",
    "rri_max_value_rounded = rri_max_value + (50 - rri_max_value % 50)\n",
    "\n",
    "rri_list_size = len(rri)\n",
    "\n",
    "inputset = [np.random.randint(rri_max_value_rounded, size=rri_list_size),\n",
    "            np.random.randint(rri_max_value_rounded, size=rri_list_size),\n",
    "            np.random.randint(rri_max_value_rounded, size=rri_list_size)]\n",
    "\n",
    "circuit = compute_moving_average_fhe.compile(inputset)\n"
   ]
  },
  {
   "cell_type": "code",
   "execution_count": 32,
   "metadata": {},
   "outputs": [],
   "source": [
    "encrypted_data = circuit.run(circuit.encrypt(rri))"
   ]
  },
  {
   "cell_type": "code",
   "execution_count": 33,
   "metadata": {},
   "outputs": [
    {
     "name": "stdout",
     "output_type": "stream",
     "text": [
      "[122 135 132 146 189 220 240 254 264 274 283 290 296 299]\n"
     ]
    }
   ],
   "source": [
    "clear_data = circuit.decrypt(encrypted_data)\n",
    "print(clear_data)"
   ]
  }
 ],
 "metadata": {
  "kernelspec": {
   "display_name": "2023-allemano",
   "language": "python",
   "name": "python3"
  },
  "language_info": {
   "codemirror_mode": {
    "name": "ipython",
    "version": 3
   },
   "file_extension": ".py",
   "mimetype": "text/x-python",
   "name": "python",
   "nbconvert_exporter": "python",
   "pygments_lexer": "ipython3",
   "version": "3.10.12"
  },
  "orig_nbformat": 4
 },
 "nbformat": 4,
 "nbformat_minor": 2
}
