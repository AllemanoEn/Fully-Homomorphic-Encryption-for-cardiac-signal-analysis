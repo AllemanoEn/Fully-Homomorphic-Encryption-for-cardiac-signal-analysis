{
 "cells": [
  {
   "cell_type": "code",
   "execution_count": 2,
   "metadata": {},
   "outputs": [],
   "source": [
    "from concrete import fhe\n",
    "import numpy as np"
   ]
  },
  {
   "cell_type": "code",
   "execution_count": 5,
   "metadata": {},
   "outputs": [],
   "source": [
    "coord_x_rpeaks_no_107 = np.array(np.load('../Pan_Tompkins_QRS_Detection/extracted_data/coord_x_r_peaks_no_107.npy'))\n",
    "\n",
    "# Sampling frequency (Hz)\n",
    "fs = 360\n",
    "\n",
    "array_len = len(coord_x_rpeaks_no_107)\n",
    "\n",
    "@fhe.compiler({\"x\": \"encrypted\"})\n",
    "def f(x):\n",
    "    for i in range(array_len-1):\n",
    "        x[i] = x[i+1]-x[i]\n",
    "\n",
    "    peaks_mean = np.floor_divide(sum(x[:-1]) , (array_len-1))\n",
    "\n",
    "    real_fs = np.multiply(60,fs)\n",
    "\n",
    "    heart_rate = np.floor_divide(real_fs, peaks_mean)\n",
    "    \n",
    "    return heart_rate\n",
    "\n",
    "inputset = [np.random.randint(4000, size=15), np.random.randint(4000, size=15),np.random.randint(4000, size=15)]\n",
    "circuit = f.compile(inputset)\n",
    "\n",
    "# Save everyting the server needs \n",
    "circuit.server.save(\"server.zip\")"
   ]
  },
  {
   "cell_type": "code",
   "execution_count": 6,
   "metadata": {},
   "outputs": [
    {
     "name": "stdout",
     "output_type": "stream",
     "text": [
      "81\n"
     ]
    }
   ],
   "source": [
    "server = fhe.Server.load(\"server.zip\")\n",
    "\n",
    "# Need to wait for requests from clients. The first likely request is for ClientSpecs.\n",
    "# Clients need ClientSpecs to generate keys and request computation\n",
    "serialized_client_specs: str = server.client_specs.serialize()\n",
    "\n",
    "# After getting the serialized ClientSpecs from a server, you can create the client object:\n",
    "client_specs = fhe.ClientSpecs.deserialize(serialized_client_specs)\n",
    "client = fhe.Client(client_specs)\n",
    "\n",
    "# Keys generation\n",
    "# seed of 0 will result in a crypto secure randomly generated 128-bit seed (see keys.py)\n",
    "client.keys.generate(seed=0)\n",
    "\n",
    "# server requires evaluation keys linked to the encryption keys, so we serialize them\n",
    "serialized_evaluation_keys: bytes = client.evaluation_keys.serialize()\n",
    "\n",
    "# encrypt your inputs and request the server to perform the computation\n",
    "serialized_args: bytes = client.encrypt(coord_x_rpeaks_no_107).serialize()\n",
    "\n",
    "deserialized_evaluation_keys = fhe.EvaluationKeys.deserialize(serialized_evaluation_keys)\n",
    "deserialized_args  = server.client_specs.deserialize_public_args(serialized_args)\n",
    "\n",
    "# perform computation\n",
    "public_result = server.run(deserialized_args, deserialized_evaluation_keys)\n",
    "serialized_public_result: bytes = public_result.serialize()\n",
    "\n",
    "deserialized_public_result = client.specs.deserialize_public_result(serialized_public_result)\n",
    "\n",
    "result = client.decrypt(deserialized_public_result)\n",
    "\n",
    "print(result)"
   ]
  }
 ],
 "metadata": {
  "kernelspec": {
   "display_name": "2023-allemano",
   "language": "python",
   "name": "python3"
  },
  "language_info": {
   "codemirror_mode": {
    "name": "ipython",
    "version": 3
   },
   "file_extension": ".py",
   "mimetype": "text/x-python",
   "name": "python",
   "nbconvert_exporter": "python",
   "pygments_lexer": "ipython3",
   "version": "3.10.12"
  },
  "orig_nbformat": 4
 },
 "nbformat": 4,
 "nbformat_minor": 2
}
