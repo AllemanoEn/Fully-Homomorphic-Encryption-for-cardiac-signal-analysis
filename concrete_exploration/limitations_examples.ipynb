{
 "cells": [
  {
   "cell_type": "code",
   "execution_count": 1,
   "metadata": {},
   "outputs": [],
   "source": [
    "import numpy as np\n",
    "from concrete import fhe"
   ]
  },
  {
   "cell_type": "markdown",
   "metadata": {},
   "source": [
    "## Encrypted and clear data"
   ]
  },
  {
   "cell_type": "code",
   "execution_count": 2,
   "metadata": {},
   "outputs": [],
   "source": [
    "@fhe.compiler({\"x\": \"encrypted\", \"y\": \"clear\"})\n",
    "def f(x,y):\n",
    "    return np.floor_divide(x,y)"
   ]
  },
  {
   "cell_type": "code",
   "execution_count": 3,
   "metadata": {},
   "outputs": [
    {
     "ename": "RuntimeError",
     "evalue": "A subgraph within the function you are trying to compile cannot be fused because it has multiple input nodes\n\n%0 = x                           # EncryptedScalar<uint1>\n^^^^^^^^^^^^^^^^^^^^^^^^^^^^^^^^^^^^^^^^^^^^^^^^^^^^^^^^^ this is one of the input nodes\n                                                          /tmp/ipykernel_4493/1578906495.py:2\n%1 = y                           # ClearScalar<uint2>\n^^^^^^^^^^^^^^^^^^^^^^^^^^^^^^^^^^^^^^^^^^^^^^^^^^^^^ this is one of the input nodes\n                                                      /tmp/ipykernel_4493/1578906495.py:2\n%2 = floor_divide(%0, %1)        # EncryptedScalar<uint1>\n^^^^^^^^^^^^^^^^^^^^^^^^^^^^^^^^^^^^^^^^^^^^^^^^^^^^^^^^^ within this subgraph\n                                                          /tmp/ipykernel_4493/668384686.py:3\nreturn %2",
     "output_type": "error",
     "traceback": [
      "\u001b[0;31m---------------------------------------------------------------------------\u001b[0m",
      "\u001b[0;31mRuntimeError\u001b[0m                              Traceback (most recent call last)",
      "Cell \u001b[0;32mIn[3], line 2\u001b[0m\n\u001b[1;32m      1\u001b[0m inputset \u001b[39m=\u001b[39m [(\u001b[39m1\u001b[39m,\u001b[39m2\u001b[39m),(\u001b[39m3\u001b[39m,\u001b[39m4\u001b[39m),(\u001b[39m5\u001b[39m,\u001b[39m6\u001b[39m),(\u001b[39m7\u001b[39m,\u001b[39m8\u001b[39m)]\n\u001b[0;32m----> 2\u001b[0m circuit \u001b[39m=\u001b[39m f\u001b[39m.\u001b[39;49mcompile(inputset)\n\u001b[1;32m      4\u001b[0m homomorphic_evaluation \u001b[39m=\u001b[39m circuit\u001b[39m.\u001b[39mencrypt_run_decrypt(\u001b[39m4\u001b[39m,\u001b[39m2\u001b[39m)\n\u001b[1;32m      5\u001b[0m \u001b[39mprint\u001b[39m(homomorphic_evaluation)\n",
      "File \u001b[0;32m~/Documents/TB/2023-allemano/lib/python3.10/site-packages/concrete/fhe/compilation/decorators.py:159\u001b[0m, in \u001b[0;36mcompiler.<locals>.decoration.<locals>.Compilable.compile\u001b[0;34m(self, inputset, configuration, artifacts, **kwargs)\u001b[0m\n\u001b[1;32m    131\u001b[0m \u001b[39mdef\u001b[39;00m \u001b[39mcompile\u001b[39m(\n\u001b[1;32m    132\u001b[0m     \u001b[39mself\u001b[39m,\n\u001b[1;32m    133\u001b[0m     inputset: Optional[Union[Iterable[Any], Iterable[Tuple[Any, \u001b[39m.\u001b[39m\u001b[39m.\u001b[39m\u001b[39m.\u001b[39m]]]] \u001b[39m=\u001b[39m \u001b[39mNone\u001b[39;00m,\n\u001b[0;32m   (...)\u001b[0m\n\u001b[1;32m    136\u001b[0m     \u001b[39m*\u001b[39m\u001b[39m*\u001b[39mkwargs,\n\u001b[1;32m    137\u001b[0m ) \u001b[39m-\u001b[39m\u001b[39m>\u001b[39m Circuit:\n\u001b[1;32m    138\u001b[0m \u001b[39m    \u001b[39m\u001b[39m\"\"\"\u001b[39;00m\n\u001b[1;32m    139\u001b[0m \u001b[39m    Compile the function into a circuit.\u001b[39;00m\n\u001b[1;32m    140\u001b[0m \n\u001b[0;32m   (...)\u001b[0m\n\u001b[1;32m    156\u001b[0m \u001b[39m            compiled circuit\u001b[39;00m\n\u001b[1;32m    157\u001b[0m \u001b[39m    \"\"\"\u001b[39;00m\n\u001b[0;32m--> 159\u001b[0m     \u001b[39mreturn\u001b[39;00m \u001b[39mself\u001b[39;49m\u001b[39m.\u001b[39;49mcompiler\u001b[39m.\u001b[39;49mcompile(inputset, configuration, artifacts, \u001b[39m*\u001b[39;49m\u001b[39m*\u001b[39;49mkwargs)\n",
      "File \u001b[0;32m~/Documents/TB/2023-allemano/lib/python3.10/site-packages/concrete/fhe/compilation/compiler.py:434\u001b[0m, in \u001b[0;36mCompiler.compile\u001b[0;34m(self, inputset, configuration, artifacts, **kwargs)\u001b[0m\n\u001b[1;32m    425\u001b[0m \u001b[39mself\u001b[39m\u001b[39m.\u001b[39martifacts \u001b[39m=\u001b[39m (\n\u001b[1;32m    426\u001b[0m     artifacts\n\u001b[1;32m    427\u001b[0m     \u001b[39mif\u001b[39;00m artifacts \u001b[39mis\u001b[39;00m \u001b[39mnot\u001b[39;00m \u001b[39mNone\u001b[39;00m\n\u001b[0;32m   (...)\u001b[0m\n\u001b[1;32m    430\u001b[0m     \u001b[39melse\u001b[39;00m \u001b[39mNone\u001b[39;00m\n\u001b[1;32m    431\u001b[0m )\n\u001b[1;32m    433\u001b[0m \u001b[39mtry\u001b[39;00m:\n\u001b[0;32m--> 434\u001b[0m     \u001b[39mself\u001b[39;49m\u001b[39m.\u001b[39;49m_evaluate(\u001b[39m\"\u001b[39;49m\u001b[39mCompiling\u001b[39;49m\u001b[39m\"\u001b[39;49m, inputset)\n\u001b[1;32m    435\u001b[0m     \u001b[39massert\u001b[39;00m \u001b[39mself\u001b[39m\u001b[39m.\u001b[39mgraph \u001b[39mis\u001b[39;00m \u001b[39mnot\u001b[39;00m \u001b[39mNone\u001b[39;00m\n\u001b[1;32m    437\u001b[0m     mlir \u001b[39m=\u001b[39m GraphConverter()\u001b[39m.\u001b[39mconvert(\u001b[39mself\u001b[39m\u001b[39m.\u001b[39mgraph, \u001b[39mself\u001b[39m\u001b[39m.\u001b[39mconfiguration)\n",
      "File \u001b[0;32m~/Documents/TB/2023-allemano/lib/python3.10/site-packages/concrete/fhe/compilation/compiler.py:279\u001b[0m, in \u001b[0;36mCompiler._evaluate\u001b[0;34m(self, action, inputset)\u001b[0m\n\u001b[1;32m    273\u001b[0m         message \u001b[39m=\u001b[39m (\n\u001b[1;32m    274\u001b[0m             \u001b[39mf\u001b[39m\u001b[39m\"\u001b[39m\u001b[39m{\u001b[39;00maction\u001b[39m}\u001b[39;00m\u001b[39m function \u001b[39m\u001b[39m'\u001b[39m\u001b[39m{\u001b[39;00m\u001b[39mself\u001b[39m\u001b[39m.\u001b[39mfunction\u001b[39m.\u001b[39m\u001b[39m__name__\u001b[39m\u001b[39m}\u001b[39;00m\u001b[39m'\u001b[39m\u001b[39m \u001b[39m\u001b[39m\"\u001b[39m\n\u001b[1;32m    275\u001b[0m             \u001b[39mf\u001b[39m\u001b[39m\"\u001b[39m\u001b[39mwithout an inputset is not supported\u001b[39m\u001b[39m\"\u001b[39m\n\u001b[1;32m    276\u001b[0m         )\n\u001b[1;32m    277\u001b[0m         \u001b[39mraise\u001b[39;00m \u001b[39mRuntimeError\u001b[39;00m(message) \u001b[39mfrom\u001b[39;00m \u001b[39merror\u001b[39;00m\n\u001b[0;32m--> 279\u001b[0m     \u001b[39mself\u001b[39;49m\u001b[39m.\u001b[39;49m_trace(first_sample)\n\u001b[1;32m    280\u001b[0m     \u001b[39massert\u001b[39;00m \u001b[39mself\u001b[39m\u001b[39m.\u001b[39mgraph \u001b[39mis\u001b[39;00m \u001b[39mnot\u001b[39;00m \u001b[39mNone\u001b[39;00m\n\u001b[1;32m    282\u001b[0m bounds \u001b[39m=\u001b[39m \u001b[39mself\u001b[39m\u001b[39m.\u001b[39mgraph\u001b[39m.\u001b[39mmeasure_bounds(\u001b[39mself\u001b[39m\u001b[39m.\u001b[39minputset)\n",
      "File \u001b[0;32m~/Documents/TB/2023-allemano/lib/python3.10/site-packages/concrete/fhe/compilation/compiler.py:211\u001b[0m, in \u001b[0;36mCompiler._trace\u001b[0;34m(self, sample)\u001b[0m\n\u001b[1;32m    208\u001b[0m \u001b[39mif\u001b[39;00m \u001b[39mself\u001b[39m\u001b[39m.\u001b[39martifacts \u001b[39mis\u001b[39;00m \u001b[39mnot\u001b[39;00m \u001b[39mNone\u001b[39;00m:\n\u001b[1;32m    209\u001b[0m     \u001b[39mself\u001b[39m\u001b[39m.\u001b[39martifacts\u001b[39m.\u001b[39madd_graph(\u001b[39m\"\u001b[39m\u001b[39minitial\u001b[39m\u001b[39m\"\u001b[39m, \u001b[39mself\u001b[39m\u001b[39m.\u001b[39mgraph)\n\u001b[0;32m--> 211\u001b[0m fuse(\u001b[39mself\u001b[39;49m\u001b[39m.\u001b[39;49mgraph, \u001b[39mself\u001b[39;49m\u001b[39m.\u001b[39;49martifacts)\n",
      "File \u001b[0;32m~/Documents/TB/2023-allemano/lib/python3.10/site-packages/concrete/fhe/compilation/utils.py:60\u001b[0m, in \u001b[0;36mfuse\u001b[0;34m(graph, artifacts)\u001b[0m\n\u001b[1;32m     57\u001b[0m all_nodes, start_nodes, terminal_node \u001b[39m=\u001b[39m subgraph_to_fuse\n\u001b[1;32m     58\u001b[0m processed_terminal_nodes\u001b[39m.\u001b[39madd(terminal_node)\n\u001b[0;32m---> 60\u001b[0m fused_node, node_before_subgraph \u001b[39m=\u001b[39m convert_subgraph_to_subgraph_node(\n\u001b[1;32m     61\u001b[0m     graph,\n\u001b[1;32m     62\u001b[0m     all_nodes,\n\u001b[1;32m     63\u001b[0m     start_nodes,\n\u001b[1;32m     64\u001b[0m     terminal_node,\n\u001b[1;32m     65\u001b[0m )\n\u001b[1;32m     66\u001b[0m nx_graph\u001b[39m.\u001b[39madd_node(fused_node)\n\u001b[1;32m     68\u001b[0m \u001b[39mif\u001b[39;00m terminal_node \u001b[39min\u001b[39;00m graph\u001b[39m.\u001b[39moutput_nodes\u001b[39m.\u001b[39mvalues():\n",
      "File \u001b[0;32m~/Documents/TB/2023-allemano/lib/python3.10/site-packages/concrete/fhe/compilation/utils.py:569\u001b[0m, in \u001b[0;36mconvert_subgraph_to_subgraph_node\u001b[0;34m(graph, all_nodes, start_nodes, terminal_node)\u001b[0m\n\u001b[1;32m    563\u001b[0m     \u001b[39mfor\u001b[39;00m variable_input_node \u001b[39min\u001b[39;00m variable_input_nodes:\n\u001b[1;32m    564\u001b[0m         base_highlighted_nodes[variable_input_node] \u001b[39m=\u001b[39m [\n\u001b[1;32m    565\u001b[0m             \u001b[39m\"\u001b[39m\u001b[39mthis is one of the input nodes\u001b[39m\u001b[39m\"\u001b[39m,\n\u001b[1;32m    566\u001b[0m             variable_input_node\u001b[39m.\u001b[39mlocation,\n\u001b[1;32m    567\u001b[0m         ]\n\u001b[0;32m--> 569\u001b[0m     \u001b[39mraise\u001b[39;00m \u001b[39mRuntimeError\u001b[39;00m(\n\u001b[1;32m    570\u001b[0m         \u001b[39m\"\u001b[39m\u001b[39mA subgraph within the function you are trying to compile cannot be fused \u001b[39m\u001b[39m\"\u001b[39m\n\u001b[1;32m    571\u001b[0m         \u001b[39m\"\u001b[39m\u001b[39mbecause it has multiple input nodes\u001b[39m\u001b[39m\\n\u001b[39;00m\u001b[39m\\n\u001b[39;00m\u001b[39m\"\u001b[39m\n\u001b[1;32m    572\u001b[0m         \u001b[39m+\u001b[39m graph\u001b[39m.\u001b[39mformat(highlighted_nodes\u001b[39m=\u001b[39mbase_highlighted_nodes, show_bounds\u001b[39m=\u001b[39m\u001b[39mFalse\u001b[39;00m)\n\u001b[1;32m    573\u001b[0m     )\n\u001b[1;32m    575\u001b[0m variable_input_node \u001b[39m=\u001b[39m variable_input_nodes[\u001b[39m0\u001b[39m]\n\u001b[1;32m    576\u001b[0m check_subgraph_fusability(graph, all_nodes, variable_input_node)\n",
      "\u001b[0;31mRuntimeError\u001b[0m: A subgraph within the function you are trying to compile cannot be fused because it has multiple input nodes\n\n%0 = x                           # EncryptedScalar<uint1>\n^^^^^^^^^^^^^^^^^^^^^^^^^^^^^^^^^^^^^^^^^^^^^^^^^^^^^^^^^ this is one of the input nodes\n                                                          /tmp/ipykernel_4493/1578906495.py:2\n%1 = y                           # ClearScalar<uint2>\n^^^^^^^^^^^^^^^^^^^^^^^^^^^^^^^^^^^^^^^^^^^^^^^^^^^^^ this is one of the input nodes\n                                                      /tmp/ipykernel_4493/1578906495.py:2\n%2 = floor_divide(%0, %1)        # EncryptedScalar<uint1>\n^^^^^^^^^^^^^^^^^^^^^^^^^^^^^^^^^^^^^^^^^^^^^^^^^^^^^^^^^ within this subgraph\n                                                          /tmp/ipykernel_4493/668384686.py:3\nreturn %2"
     ]
    }
   ],
   "source": [
    "inputset = [(1,2),(3,4),(5,6),(7,8)]\n",
    "circuit = f.compile(inputset)\n",
    "\n",
    "homomorphic_evaluation = circuit.encrypt_run_decrypt(4,2)\n",
    "print(homomorphic_evaluation)"
   ]
  },
  {
   "cell_type": "markdown",
   "metadata": {},
   "source": [
    "## Multiple inputs "
   ]
  },
  {
   "cell_type": "code",
   "execution_count": 8,
   "metadata": {},
   "outputs": [],
   "source": [
    "@fhe.compiler({\"x\": \"encrypted\", \"y\": \"encrypted\"})\n",
    "def f(x,y):\n",
    "    return np.floor_divide(x,y)"
   ]
  },
  {
   "cell_type": "code",
   "execution_count": 11,
   "metadata": {},
   "outputs": [
    {
     "ename": "RuntimeError",
     "evalue": "A subgraph within the function you are trying to compile cannot be fused because it has multiple input nodes\n\n%0 = x                           # EncryptedScalar<uint1>\n^^^^^^^^^^^^^^^^^^^^^^^^^^^^^^^^^^^^^^^^^^^^^^^^^^^^^^^^^ this is one of the input nodes\n                                                          /tmp/ipykernel_9979/1578906495.py:2\n%1 = y                           # ClearScalar<uint2>\n^^^^^^^^^^^^^^^^^^^^^^^^^^^^^^^^^^^^^^^^^^^^^^^^^^^^^ this is one of the input nodes\n                                                      /tmp/ipykernel_9979/1578906495.py:2\n%2 = floor_divide(%0, %1)        # EncryptedScalar<uint1>\n^^^^^^^^^^^^^^^^^^^^^^^^^^^^^^^^^^^^^^^^^^^^^^^^^^^^^^^^^ within this subgraph\n                                                          /tmp/ipykernel_9979/668384686.py:3\nreturn %2",
     "output_type": "error",
     "traceback": [
      "\u001b[0;31m---------------------------------------------------------------------------\u001b[0m",
      "\u001b[0;31mRuntimeError\u001b[0m                              Traceback (most recent call last)",
      "Cell \u001b[0;32mIn[11], line 2\u001b[0m\n\u001b[1;32m      1\u001b[0m inputset \u001b[39m=\u001b[39m [(\u001b[39m1\u001b[39m,\u001b[39m2\u001b[39m),(\u001b[39m3\u001b[39m,\u001b[39m4\u001b[39m),(\u001b[39m5\u001b[39m,\u001b[39m6\u001b[39m),(\u001b[39m7\u001b[39m,\u001b[39m8\u001b[39m)]\n\u001b[0;32m----> 2\u001b[0m circuit \u001b[39m=\u001b[39m f\u001b[39m.\u001b[39;49mcompile(inputset)\n\u001b[1;32m      4\u001b[0m homomorphic_evaluation \u001b[39m=\u001b[39m circuit\u001b[39m.\u001b[39mencrypt_run_decrypt(\u001b[39m4\u001b[39m,\u001b[39m2\u001b[39m)\n\u001b[1;32m      5\u001b[0m \u001b[39mprint\u001b[39m(homomorphic_evaluation)\n",
      "File \u001b[0;32m~/Documents/TB/2023-allemano/lib/python3.10/site-packages/concrete/fhe/compilation/decorators.py:159\u001b[0m, in \u001b[0;36mcompiler.<locals>.decoration.<locals>.Compilable.compile\u001b[0;34m(self, inputset, configuration, artifacts, **kwargs)\u001b[0m\n\u001b[1;32m    131\u001b[0m \u001b[39mdef\u001b[39;00m \u001b[39mcompile\u001b[39m(\n\u001b[1;32m    132\u001b[0m     \u001b[39mself\u001b[39m,\n\u001b[1;32m    133\u001b[0m     inputset: Optional[Union[Iterable[Any], Iterable[Tuple[Any, \u001b[39m.\u001b[39m\u001b[39m.\u001b[39m\u001b[39m.\u001b[39m]]]] \u001b[39m=\u001b[39m \u001b[39mNone\u001b[39;00m,\n\u001b[0;32m   (...)\u001b[0m\n\u001b[1;32m    136\u001b[0m     \u001b[39m*\u001b[39m\u001b[39m*\u001b[39mkwargs,\n\u001b[1;32m    137\u001b[0m ) \u001b[39m-\u001b[39m\u001b[39m>\u001b[39m Circuit:\n\u001b[1;32m    138\u001b[0m \u001b[39m    \u001b[39m\u001b[39m\"\"\"\u001b[39;00m\n\u001b[1;32m    139\u001b[0m \u001b[39m    Compile the function into a circuit.\u001b[39;00m\n\u001b[1;32m    140\u001b[0m \n\u001b[0;32m   (...)\u001b[0m\n\u001b[1;32m    156\u001b[0m \u001b[39m            compiled circuit\u001b[39;00m\n\u001b[1;32m    157\u001b[0m \u001b[39m    \"\"\"\u001b[39;00m\n\u001b[0;32m--> 159\u001b[0m     \u001b[39mreturn\u001b[39;00m \u001b[39mself\u001b[39;49m\u001b[39m.\u001b[39;49mcompiler\u001b[39m.\u001b[39;49mcompile(inputset, configuration, artifacts, \u001b[39m*\u001b[39;49m\u001b[39m*\u001b[39;49mkwargs)\n",
      "File \u001b[0;32m~/Documents/TB/2023-allemano/lib/python3.10/site-packages/concrete/fhe/compilation/compiler.py:434\u001b[0m, in \u001b[0;36mCompiler.compile\u001b[0;34m(self, inputset, configuration, artifacts, **kwargs)\u001b[0m\n\u001b[1;32m    425\u001b[0m \u001b[39mself\u001b[39m\u001b[39m.\u001b[39martifacts \u001b[39m=\u001b[39m (\n\u001b[1;32m    426\u001b[0m     artifacts\n\u001b[1;32m    427\u001b[0m     \u001b[39mif\u001b[39;00m artifacts \u001b[39mis\u001b[39;00m \u001b[39mnot\u001b[39;00m \u001b[39mNone\u001b[39;00m\n\u001b[0;32m   (...)\u001b[0m\n\u001b[1;32m    430\u001b[0m     \u001b[39melse\u001b[39;00m \u001b[39mNone\u001b[39;00m\n\u001b[1;32m    431\u001b[0m )\n\u001b[1;32m    433\u001b[0m \u001b[39mtry\u001b[39;00m:\n\u001b[0;32m--> 434\u001b[0m     \u001b[39mself\u001b[39;49m\u001b[39m.\u001b[39;49m_evaluate(\u001b[39m\"\u001b[39;49m\u001b[39mCompiling\u001b[39;49m\u001b[39m\"\u001b[39;49m, inputset)\n\u001b[1;32m    435\u001b[0m     \u001b[39massert\u001b[39;00m \u001b[39mself\u001b[39m\u001b[39m.\u001b[39mgraph \u001b[39mis\u001b[39;00m \u001b[39mnot\u001b[39;00m \u001b[39mNone\u001b[39;00m\n\u001b[1;32m    437\u001b[0m     mlir \u001b[39m=\u001b[39m GraphConverter()\u001b[39m.\u001b[39mconvert(\u001b[39mself\u001b[39m\u001b[39m.\u001b[39mgraph, \u001b[39mself\u001b[39m\u001b[39m.\u001b[39mconfiguration)\n",
      "File \u001b[0;32m~/Documents/TB/2023-allemano/lib/python3.10/site-packages/concrete/fhe/compilation/compiler.py:279\u001b[0m, in \u001b[0;36mCompiler._evaluate\u001b[0;34m(self, action, inputset)\u001b[0m\n\u001b[1;32m    273\u001b[0m         message \u001b[39m=\u001b[39m (\n\u001b[1;32m    274\u001b[0m             \u001b[39mf\u001b[39m\u001b[39m\"\u001b[39m\u001b[39m{\u001b[39;00maction\u001b[39m}\u001b[39;00m\u001b[39m function \u001b[39m\u001b[39m'\u001b[39m\u001b[39m{\u001b[39;00m\u001b[39mself\u001b[39m\u001b[39m.\u001b[39mfunction\u001b[39m.\u001b[39m\u001b[39m__name__\u001b[39m\u001b[39m}\u001b[39;00m\u001b[39m'\u001b[39m\u001b[39m \u001b[39m\u001b[39m\"\u001b[39m\n\u001b[1;32m    275\u001b[0m             \u001b[39mf\u001b[39m\u001b[39m\"\u001b[39m\u001b[39mwithout an inputset is not supported\u001b[39m\u001b[39m\"\u001b[39m\n\u001b[1;32m    276\u001b[0m         )\n\u001b[1;32m    277\u001b[0m         \u001b[39mraise\u001b[39;00m \u001b[39mRuntimeError\u001b[39;00m(message) \u001b[39mfrom\u001b[39;00m \u001b[39merror\u001b[39;00m\n\u001b[0;32m--> 279\u001b[0m     \u001b[39mself\u001b[39;49m\u001b[39m.\u001b[39;49m_trace(first_sample)\n\u001b[1;32m    280\u001b[0m     \u001b[39massert\u001b[39;00m \u001b[39mself\u001b[39m\u001b[39m.\u001b[39mgraph \u001b[39mis\u001b[39;00m \u001b[39mnot\u001b[39;00m \u001b[39mNone\u001b[39;00m\n\u001b[1;32m    282\u001b[0m bounds \u001b[39m=\u001b[39m \u001b[39mself\u001b[39m\u001b[39m.\u001b[39mgraph\u001b[39m.\u001b[39mmeasure_bounds(\u001b[39mself\u001b[39m\u001b[39m.\u001b[39minputset)\n",
      "File \u001b[0;32m~/Documents/TB/2023-allemano/lib/python3.10/site-packages/concrete/fhe/compilation/compiler.py:211\u001b[0m, in \u001b[0;36mCompiler._trace\u001b[0;34m(self, sample)\u001b[0m\n\u001b[1;32m    208\u001b[0m \u001b[39mif\u001b[39;00m \u001b[39mself\u001b[39m\u001b[39m.\u001b[39martifacts \u001b[39mis\u001b[39;00m \u001b[39mnot\u001b[39;00m \u001b[39mNone\u001b[39;00m:\n\u001b[1;32m    209\u001b[0m     \u001b[39mself\u001b[39m\u001b[39m.\u001b[39martifacts\u001b[39m.\u001b[39madd_graph(\u001b[39m\"\u001b[39m\u001b[39minitial\u001b[39m\u001b[39m\"\u001b[39m, \u001b[39mself\u001b[39m\u001b[39m.\u001b[39mgraph)\n\u001b[0;32m--> 211\u001b[0m fuse(\u001b[39mself\u001b[39;49m\u001b[39m.\u001b[39;49mgraph, \u001b[39mself\u001b[39;49m\u001b[39m.\u001b[39;49martifacts)\n",
      "File \u001b[0;32m~/Documents/TB/2023-allemano/lib/python3.10/site-packages/concrete/fhe/compilation/utils.py:60\u001b[0m, in \u001b[0;36mfuse\u001b[0;34m(graph, artifacts)\u001b[0m\n\u001b[1;32m     57\u001b[0m all_nodes, start_nodes, terminal_node \u001b[39m=\u001b[39m subgraph_to_fuse\n\u001b[1;32m     58\u001b[0m processed_terminal_nodes\u001b[39m.\u001b[39madd(terminal_node)\n\u001b[0;32m---> 60\u001b[0m fused_node, node_before_subgraph \u001b[39m=\u001b[39m convert_subgraph_to_subgraph_node(\n\u001b[1;32m     61\u001b[0m     graph,\n\u001b[1;32m     62\u001b[0m     all_nodes,\n\u001b[1;32m     63\u001b[0m     start_nodes,\n\u001b[1;32m     64\u001b[0m     terminal_node,\n\u001b[1;32m     65\u001b[0m )\n\u001b[1;32m     66\u001b[0m nx_graph\u001b[39m.\u001b[39madd_node(fused_node)\n\u001b[1;32m     68\u001b[0m \u001b[39mif\u001b[39;00m terminal_node \u001b[39min\u001b[39;00m graph\u001b[39m.\u001b[39moutput_nodes\u001b[39m.\u001b[39mvalues():\n",
      "File \u001b[0;32m~/Documents/TB/2023-allemano/lib/python3.10/site-packages/concrete/fhe/compilation/utils.py:569\u001b[0m, in \u001b[0;36mconvert_subgraph_to_subgraph_node\u001b[0;34m(graph, all_nodes, start_nodes, terminal_node)\u001b[0m\n\u001b[1;32m    563\u001b[0m     \u001b[39mfor\u001b[39;00m variable_input_node \u001b[39min\u001b[39;00m variable_input_nodes:\n\u001b[1;32m    564\u001b[0m         base_highlighted_nodes[variable_input_node] \u001b[39m=\u001b[39m [\n\u001b[1;32m    565\u001b[0m             \u001b[39m\"\u001b[39m\u001b[39mthis is one of the input nodes\u001b[39m\u001b[39m\"\u001b[39m,\n\u001b[1;32m    566\u001b[0m             variable_input_node\u001b[39m.\u001b[39mlocation,\n\u001b[1;32m    567\u001b[0m         ]\n\u001b[0;32m--> 569\u001b[0m     \u001b[39mraise\u001b[39;00m \u001b[39mRuntimeError\u001b[39;00m(\n\u001b[1;32m    570\u001b[0m         \u001b[39m\"\u001b[39m\u001b[39mA subgraph within the function you are trying to compile cannot be fused \u001b[39m\u001b[39m\"\u001b[39m\n\u001b[1;32m    571\u001b[0m         \u001b[39m\"\u001b[39m\u001b[39mbecause it has multiple input nodes\u001b[39m\u001b[39m\\n\u001b[39;00m\u001b[39m\\n\u001b[39;00m\u001b[39m\"\u001b[39m\n\u001b[1;32m    572\u001b[0m         \u001b[39m+\u001b[39m graph\u001b[39m.\u001b[39mformat(highlighted_nodes\u001b[39m=\u001b[39mbase_highlighted_nodes, show_bounds\u001b[39m=\u001b[39m\u001b[39mFalse\u001b[39;00m)\n\u001b[1;32m    573\u001b[0m     )\n\u001b[1;32m    575\u001b[0m variable_input_node \u001b[39m=\u001b[39m variable_input_nodes[\u001b[39m0\u001b[39m]\n\u001b[1;32m    576\u001b[0m check_subgraph_fusability(graph, all_nodes, variable_input_node)\n",
      "\u001b[0;31mRuntimeError\u001b[0m: A subgraph within the function you are trying to compile cannot be fused because it has multiple input nodes\n\n%0 = x                           # EncryptedScalar<uint1>\n^^^^^^^^^^^^^^^^^^^^^^^^^^^^^^^^^^^^^^^^^^^^^^^^^^^^^^^^^ this is one of the input nodes\n                                                          /tmp/ipykernel_9979/1578906495.py:2\n%1 = y                           # ClearScalar<uint2>\n^^^^^^^^^^^^^^^^^^^^^^^^^^^^^^^^^^^^^^^^^^^^^^^^^^^^^ this is one of the input nodes\n                                                      /tmp/ipykernel_9979/1578906495.py:2\n%2 = floor_divide(%0, %1)        # EncryptedScalar<uint1>\n^^^^^^^^^^^^^^^^^^^^^^^^^^^^^^^^^^^^^^^^^^^^^^^^^^^^^^^^^ within this subgraph\n                                                          /tmp/ipykernel_9979/668384686.py:3\nreturn %2"
     ]
    }
   ],
   "source": [
    "inputset = [(1,2),(3,4),(5,6),(7,8)]\n",
    "circuit = f.compile(inputset)\n",
    "\n",
    "homomorphic_evaluation = circuit.encrypt_run_decrypt(4,2)\n",
    "print(homomorphic_evaluation)"
   ]
  },
  {
   "cell_type": "markdown",
   "metadata": {},
   "source": [
    "## Clear-clear multiplication"
   ]
  },
  {
   "cell_type": "code",
   "execution_count": 11,
   "metadata": {},
   "outputs": [],
   "source": [
    "@fhe.compiler({\"x\": \"encrypted\", \"y\": \"clear\"})\n",
    "def f(x,y):\n",
    "\n",
    "    res = np.multiply(10,y)\n",
    "\n",
    "    return np.multiply(x,res)"
   ]
  },
  {
   "cell_type": "code",
   "execution_count": 12,
   "metadata": {},
   "outputs": [
    {
     "ename": "RuntimeError",
     "evalue": "Function you are trying to compile cannot be compiled\n\n%0 = x                       # EncryptedScalar<uint3>         ∈ [1, 7]\n%1 = y                       # ClearScalar<uint4>             ∈ [2, 8]\n^^^^^^^^^^^^^^^^^^^^^^^^^^^^^^^^^^^^^^^^^^^^^^^^^^^^^^^^^^^^^^^^^^^^^^ rhs is clear\n                                                                       /tmp/ipykernel_2799/1578906495.py:2\n%2 = 10                      # ClearScalar<uint4>             ∈ [10, 10]\n^^^^^^^^^^^^^^^^^^^^^^^^^^^^^^^^^^^^^^^^^^^^^^^^^^^^^^^^^^^^^^^^^^^^^^^^ lhs is clear\n                                                                         /tmp/ipykernel_2799/3200517732.py:4\n%3 = multiply(%2, %1)        # ClearScalar<uint7>             ∈ [20, 80]\n^^^^^^^^^^^^^^^^^^^^^^^^^^^^^^^^^^^^^^^^^^^^^^^^^^^^^^^^^^^^^^^^^^^^^^^^ but clear-clear multiplications are not supported\n                                                                         /tmp/ipykernel_2799/3200517732.py:4\n%4 = multiply(%0, %3)        # EncryptedScalar<uint10>        ∈ [20, 560]\nreturn %4",
     "output_type": "error",
     "traceback": [
      "\u001b[0;31m---------------------------------------------------------------------------\u001b[0m",
      "\u001b[0;31mRuntimeError\u001b[0m                              Traceback (most recent call last)",
      "Cell \u001b[0;32mIn[12], line 2\u001b[0m\n\u001b[1;32m      1\u001b[0m inputset \u001b[39m=\u001b[39m [(\u001b[39m1\u001b[39m,\u001b[39m2\u001b[39m),(\u001b[39m3\u001b[39m,\u001b[39m4\u001b[39m),(\u001b[39m5\u001b[39m,\u001b[39m6\u001b[39m),(\u001b[39m7\u001b[39m,\u001b[39m8\u001b[39m)]\n\u001b[0;32m----> 2\u001b[0m circuit \u001b[39m=\u001b[39m f\u001b[39m.\u001b[39;49mcompile(inputset)\n\u001b[1;32m      4\u001b[0m homomorphic_evaluation \u001b[39m=\u001b[39m circuit\u001b[39m.\u001b[39mencrypt_run_decrypt(\u001b[39m4\u001b[39m,\u001b[39m2\u001b[39m)\n\u001b[1;32m      5\u001b[0m \u001b[39mprint\u001b[39m(homomorphic_evaluation)\n",
      "File \u001b[0;32m~/Documents/TB/2023-allemano/lib/python3.10/site-packages/concrete/fhe/compilation/decorators.py:159\u001b[0m, in \u001b[0;36mcompiler.<locals>.decoration.<locals>.Compilable.compile\u001b[0;34m(self, inputset, configuration, artifacts, **kwargs)\u001b[0m\n\u001b[1;32m    131\u001b[0m \u001b[39mdef\u001b[39;00m \u001b[39mcompile\u001b[39m(\n\u001b[1;32m    132\u001b[0m     \u001b[39mself\u001b[39m,\n\u001b[1;32m    133\u001b[0m     inputset: Optional[Union[Iterable[Any], Iterable[Tuple[Any, \u001b[39m.\u001b[39m\u001b[39m.\u001b[39m\u001b[39m.\u001b[39m]]]] \u001b[39m=\u001b[39m \u001b[39mNone\u001b[39;00m,\n\u001b[0;32m   (...)\u001b[0m\n\u001b[1;32m    136\u001b[0m     \u001b[39m*\u001b[39m\u001b[39m*\u001b[39mkwargs,\n\u001b[1;32m    137\u001b[0m ) \u001b[39m-\u001b[39m\u001b[39m>\u001b[39m Circuit:\n\u001b[1;32m    138\u001b[0m \u001b[39m    \u001b[39m\u001b[39m\"\"\"\u001b[39;00m\n\u001b[1;32m    139\u001b[0m \u001b[39m    Compile the function into a circuit.\u001b[39;00m\n\u001b[1;32m    140\u001b[0m \n\u001b[0;32m   (...)\u001b[0m\n\u001b[1;32m    156\u001b[0m \u001b[39m            compiled circuit\u001b[39;00m\n\u001b[1;32m    157\u001b[0m \u001b[39m    \"\"\"\u001b[39;00m\n\u001b[0;32m--> 159\u001b[0m     \u001b[39mreturn\u001b[39;00m \u001b[39mself\u001b[39;49m\u001b[39m.\u001b[39;49mcompiler\u001b[39m.\u001b[39;49mcompile(inputset, configuration, artifacts, \u001b[39m*\u001b[39;49m\u001b[39m*\u001b[39;49mkwargs)\n",
      "File \u001b[0;32m~/Documents/TB/2023-allemano/lib/python3.10/site-packages/concrete/fhe/compilation/compiler.py:437\u001b[0m, in \u001b[0;36mCompiler.compile\u001b[0;34m(self, inputset, configuration, artifacts, **kwargs)\u001b[0m\n\u001b[1;32m    434\u001b[0m \u001b[39mself\u001b[39m\u001b[39m.\u001b[39m_evaluate(\u001b[39m\"\u001b[39m\u001b[39mCompiling\u001b[39m\u001b[39m\"\u001b[39m, inputset)\n\u001b[1;32m    435\u001b[0m \u001b[39massert\u001b[39;00m \u001b[39mself\u001b[39m\u001b[39m.\u001b[39mgraph \u001b[39mis\u001b[39;00m \u001b[39mnot\u001b[39;00m \u001b[39mNone\u001b[39;00m\n\u001b[0;32m--> 437\u001b[0m mlir \u001b[39m=\u001b[39m GraphConverter()\u001b[39m.\u001b[39;49mconvert(\u001b[39mself\u001b[39;49m\u001b[39m.\u001b[39;49mgraph, \u001b[39mself\u001b[39;49m\u001b[39m.\u001b[39;49mconfiguration)\n\u001b[1;32m    438\u001b[0m \u001b[39mif\u001b[39;00m \u001b[39mself\u001b[39m\u001b[39m.\u001b[39martifacts \u001b[39mis\u001b[39;00m \u001b[39mnot\u001b[39;00m \u001b[39mNone\u001b[39;00m:\n\u001b[1;32m    439\u001b[0m     \u001b[39mself\u001b[39m\u001b[39m.\u001b[39martifacts\u001b[39m.\u001b[39madd_mlir_to_compile(mlir)\n",
      "File \u001b[0;32m~/Documents/TB/2023-allemano/lib/python3.10/site-packages/concrete/fhe/mlir/converter.py:65\u001b[0m, in \u001b[0;36mConverter.convert\u001b[0;34m(self, graph, configuration)\u001b[0m\n\u001b[1;32m     60\u001b[0m ctx \u001b[39m=\u001b[39m Context(context, graph)\n\u001b[1;32m     62\u001b[0m input_types \u001b[39m=\u001b[39m [ctx\u001b[39m.\u001b[39mtypeof(node)\u001b[39m.\u001b[39mmlir \u001b[39mfor\u001b[39;00m node \u001b[39min\u001b[39;00m graph\u001b[39m.\u001b[39mordered_inputs()]\n\u001b[1;32m     64\u001b[0m \u001b[39m@func\u001b[39;49m\u001b[39m.\u001b[39;49mFuncOp\u001b[39m.\u001b[39;49mfrom_py_func(\u001b[39m*\u001b[39;49minput_types)\n\u001b[0;32m---> 65\u001b[0m \u001b[39mdef\u001b[39;49;00m \u001b[39mmain\u001b[39;49m(\u001b[39m*\u001b[39;49margs):\n\u001b[1;32m     66\u001b[0m     \u001b[39mfor\u001b[39;49;00m index, node \u001b[39min\u001b[39;49;00m \u001b[39menumerate\u001b[39;49m(graph\u001b[39m.\u001b[39;49mordered_inputs()):\n\u001b[1;32m     67\u001b[0m         conversion \u001b[39m=\u001b[39;49m Conversion(node, args[index])\n",
      "File \u001b[0;32m~/Documents/TB/2023-allemano/lib/python3.10/site-packages/mlir/dialects/_func_ops_ext.py:187\u001b[0m, in \u001b[0;36mFuncOp.from_py_func.<locals>.decorator\u001b[0;34m(f)\u001b[0m\n\u001b[1;32m    185\u001b[0m \u001b[39mif\u001b[39;00m has_arg_func_op:\n\u001b[1;32m    186\u001b[0m   func_kwargs[\u001b[39m\"\u001b[39m\u001b[39mfunc_op\u001b[39m\u001b[39m\"\u001b[39m] \u001b[39m=\u001b[39m func_op\n\u001b[0;32m--> 187\u001b[0m return_values \u001b[39m=\u001b[39m f(\u001b[39m*\u001b[39;49mfunc_args, \u001b[39m*\u001b[39;49m\u001b[39m*\u001b[39;49mfunc_kwargs)\n\u001b[1;32m    188\u001b[0m \u001b[39mif\u001b[39;00m \u001b[39mnot\u001b[39;00m implicit_return:\n\u001b[1;32m    189\u001b[0m   return_types \u001b[39m=\u001b[39m \u001b[39mlist\u001b[39m(results)\n",
      "File \u001b[0;32m~/Documents/TB/2023-allemano/lib/python3.10/site-packages/concrete/fhe/mlir/converter.py:77\u001b[0m, in \u001b[0;36mConverter.convert.<locals>.main\u001b[0;34m(*args)\u001b[0m\n\u001b[1;32m     74\u001b[0m         \u001b[39mcontinue\u001b[39;00m\n\u001b[1;32m     76\u001b[0m     preds \u001b[39m=\u001b[39m [ctx\u001b[39m.\u001b[39mconversions[pred] \u001b[39mfor\u001b[39;00m pred \u001b[39min\u001b[39;00m graph\u001b[39m.\u001b[39mordered_preds_of(node)]\n\u001b[0;32m---> 77\u001b[0m     \u001b[39mself\u001b[39;49m\u001b[39m.\u001b[39;49mnode(ctx, node, preds)\n\u001b[1;32m     79\u001b[0m outputs \u001b[39m=\u001b[39m []\n\u001b[1;32m     80\u001b[0m \u001b[39mfor\u001b[39;00m node \u001b[39min\u001b[39;00m graph\u001b[39m.\u001b[39mordered_outputs():\n",
      "File \u001b[0;32m~/Documents/TB/2023-allemano/lib/python3.10/site-packages/concrete/fhe/mlir/converter.py:166\u001b[0m, in \u001b[0;36mConverter.node\u001b[0;34m(self, ctx, node, preds)\u001b[0m\n\u001b[1;32m    163\u001b[0m \u001b[39massert\u001b[39;00m operation \u001b[39mnot\u001b[39;00m \u001b[39min\u001b[39;00m [\u001b[39m\"\u001b[39m\u001b[39mconvert\u001b[39m\u001b[39m\"\u001b[39m, \u001b[39m\"\u001b[39m\u001b[39mnode\u001b[39m\u001b[39m\"\u001b[39m]\n\u001b[1;32m    165\u001b[0m converter \u001b[39m=\u001b[39m \u001b[39mgetattr\u001b[39m(\u001b[39mself\u001b[39m, operation) \u001b[39mif\u001b[39;00m \u001b[39mhasattr\u001b[39m(\u001b[39mself\u001b[39m, operation) \u001b[39melse\u001b[39;00m \u001b[39mself\u001b[39m\u001b[39m.\u001b[39mtlu\n\u001b[0;32m--> 166\u001b[0m conversion \u001b[39m=\u001b[39m converter(ctx, node, preds)\n\u001b[1;32m    167\u001b[0m conversion\u001b[39m.\u001b[39mset_original_bit_width(node\u001b[39m.\u001b[39mproperties[\u001b[39m\"\u001b[39m\u001b[39moriginal_bit_width\u001b[39m\u001b[39m\"\u001b[39m])\n\u001b[1;32m    169\u001b[0m ctx\u001b[39m.\u001b[39mconversions[node] \u001b[39m=\u001b[39m conversion\n",
      "File \u001b[0;32m~/Documents/TB/2023-allemano/lib/python3.10/site-packages/concrete/fhe/mlir/converter.py:348\u001b[0m, in \u001b[0;36mConverter.multiply\u001b[0;34m(self, ctx, node, preds)\u001b[0m\n\u001b[1;32m    346\u001b[0m \u001b[39mdef\u001b[39;00m \u001b[39mmultiply\u001b[39m(\u001b[39mself\u001b[39m, ctx: Context, node: Node, preds: List[Conversion]) \u001b[39m-\u001b[39m\u001b[39m>\u001b[39m Conversion:\n\u001b[1;32m    347\u001b[0m     \u001b[39massert\u001b[39;00m \u001b[39mlen\u001b[39m(preds) \u001b[39m==\u001b[39m \u001b[39m2\u001b[39m\n\u001b[0;32m--> 348\u001b[0m     \u001b[39mreturn\u001b[39;00m ctx\u001b[39m.\u001b[39;49mmul(ctx\u001b[39m.\u001b[39;49mtypeof(node), preds[\u001b[39m0\u001b[39;49m], preds[\u001b[39m1\u001b[39;49m])\n",
      "File \u001b[0;32m~/Documents/TB/2023-allemano/lib/python3.10/site-packages/concrete/fhe/mlir/context.py:1329\u001b[0m, in \u001b[0;36mContext.mul\u001b[0;34m(self, resulting_type, x, y)\u001b[0m\n\u001b[1;32m   1323\u001b[0m \u001b[39mif\u001b[39;00m x\u001b[39m.\u001b[39mis_clear \u001b[39mand\u001b[39;00m y\u001b[39m.\u001b[39mis_clear:\n\u001b[1;32m   1324\u001b[0m     highlights \u001b[39m=\u001b[39m {\n\u001b[1;32m   1325\u001b[0m         x\u001b[39m.\u001b[39morigin: \u001b[39m\"\u001b[39m\u001b[39mlhs is clear\u001b[39m\u001b[39m\"\u001b[39m,\n\u001b[1;32m   1326\u001b[0m         y\u001b[39m.\u001b[39morigin: \u001b[39m\"\u001b[39m\u001b[39mrhs is clear\u001b[39m\u001b[39m\"\u001b[39m \u001b[39mif\u001b[39;00m x\u001b[39m.\u001b[39morigin \u001b[39mis\u001b[39;00m \u001b[39mnot\u001b[39;00m y\u001b[39m.\u001b[39morigin \u001b[39melse\u001b[39;00m \u001b[39m\"\u001b[39m\u001b[39moperand is clear\u001b[39m\u001b[39m\"\u001b[39m,\n\u001b[1;32m   1327\u001b[0m         \u001b[39mself\u001b[39m\u001b[39m.\u001b[39mconverting: \u001b[39m\"\u001b[39m\u001b[39mbut clear-clear multiplications are not supported\u001b[39m\u001b[39m\"\u001b[39m,\n\u001b[1;32m   1328\u001b[0m     }\n\u001b[0;32m-> 1329\u001b[0m     \u001b[39mself\u001b[39;49m\u001b[39m.\u001b[39;49merror(highlights)\n\u001b[1;32m   1331\u001b[0m \u001b[39massert\u001b[39;00m \u001b[39mself\u001b[39m\u001b[39m.\u001b[39mis_bit_width_compatible(resulting_type, x, y)\n\u001b[1;32m   1333\u001b[0m x \u001b[39m=\u001b[39m \u001b[39mself\u001b[39m\u001b[39m.\u001b[39mto_signedness(x, of\u001b[39m=\u001b[39mresulting_type)\n",
      "File \u001b[0;32m~/Documents/TB/2023-allemano/lib/python3.10/site-packages/concrete/fhe/mlir/context.py:158\u001b[0m, in \u001b[0;36mContext.error\u001b[0;34m(self, highlights)\u001b[0m\n\u001b[1;32m    149\u001b[0m \u001b[39mdef\u001b[39;00m \u001b[39merror\u001b[39m(\u001b[39mself\u001b[39m, highlights: Mapping[Node, Union[\u001b[39mstr\u001b[39m, List[\u001b[39mstr\u001b[39m]]]):\n\u001b[1;32m    150\u001b[0m \u001b[39m    \u001b[39m\u001b[39m\"\"\"\u001b[39;00m\n\u001b[1;32m    151\u001b[0m \u001b[39m    Fail compilation with an error.\u001b[39;00m\n\u001b[1;32m    152\u001b[0m \n\u001b[0;32m   (...)\u001b[0m\n\u001b[1;32m    155\u001b[0m \u001b[39m            nodes to highlight along with messages\u001b[39;00m\n\u001b[1;32m    156\u001b[0m \u001b[39m    \"\"\"\u001b[39;00m\n\u001b[0;32m--> 158\u001b[0m     GraphProcessor\u001b[39m.\u001b[39;49merror(\u001b[39mself\u001b[39;49m\u001b[39m.\u001b[39;49mgraph, highlights)\n",
      "File \u001b[0;32m~/Documents/TB/2023-allemano/lib/python3.10/site-packages/concrete/fhe/mlir/processors/__init__.py:44\u001b[0m, in \u001b[0;36mGraphProcessor.error\u001b[0;34m(graph, highlights)\u001b[0m\n\u001b[1;32m     39\u001b[0m     highlights_with_location[node] \u001b[39m=\u001b[39m messages_with_location\n\u001b[1;32m     41\u001b[0m message \u001b[39m=\u001b[39m \u001b[39m\"\u001b[39m\u001b[39mFunction you are trying to compile cannot be compiled\u001b[39m\u001b[39m\\n\u001b[39;00m\u001b[39m\\n\u001b[39;00m\u001b[39m\"\u001b[39m \u001b[39m+\u001b[39m graph\u001b[39m.\u001b[39mformat(\n\u001b[1;32m     42\u001b[0m     highlighted_nodes\u001b[39m=\u001b[39mhighlights_with_location\n\u001b[1;32m     43\u001b[0m )\n\u001b[0;32m---> 44\u001b[0m \u001b[39mraise\u001b[39;00m \u001b[39mRuntimeError\u001b[39;00m(message)\n",
      "\u001b[0;31mRuntimeError\u001b[0m: Function you are trying to compile cannot be compiled\n\n%0 = x                       # EncryptedScalar<uint3>         ∈ [1, 7]\n%1 = y                       # ClearScalar<uint4>             ∈ [2, 8]\n^^^^^^^^^^^^^^^^^^^^^^^^^^^^^^^^^^^^^^^^^^^^^^^^^^^^^^^^^^^^^^^^^^^^^^ rhs is clear\n                                                                       /tmp/ipykernel_2799/1578906495.py:2\n%2 = 10                      # ClearScalar<uint4>             ∈ [10, 10]\n^^^^^^^^^^^^^^^^^^^^^^^^^^^^^^^^^^^^^^^^^^^^^^^^^^^^^^^^^^^^^^^^^^^^^^^^ lhs is clear\n                                                                         /tmp/ipykernel_2799/3200517732.py:4\n%3 = multiply(%2, %1)        # ClearScalar<uint7>             ∈ [20, 80]\n^^^^^^^^^^^^^^^^^^^^^^^^^^^^^^^^^^^^^^^^^^^^^^^^^^^^^^^^^^^^^^^^^^^^^^^^ but clear-clear multiplications are not supported\n                                                                         /tmp/ipykernel_2799/3200517732.py:4\n%4 = multiply(%0, %3)        # EncryptedScalar<uint10>        ∈ [20, 560]\nreturn %4"
     ]
    }
   ],
   "source": [
    "inputset = [(1,2),(3,4),(5,6),(7,8)]\n",
    "circuit = f.compile(inputset)\n",
    "\n",
    "homomorphic_evaluation = circuit.encrypt_run_decrypt(4,2)\n",
    "print(homomorphic_evaluation)"
   ]
  },
  {
   "cell_type": "markdown",
   "metadata": {},
   "source": [
    "## encrypted-encrypted division"
   ]
  },
  {
   "cell_type": "code",
   "execution_count": 21,
   "metadata": {},
   "outputs": [],
   "source": [
    "@fhe.compiler({\"x\": \"encrypted\"})\n",
    "def f(x):\n",
    "\n",
    "    encrypted_1 = fhe.one()\n",
    "\n",
    "    return np.floor_divide(x, encrypted_1)"
   ]
  },
  {
   "cell_type": "code",
   "execution_count": 22,
   "metadata": {},
   "outputs": [
    {
     "ename": "RuntimeError",
     "evalue": "A subgraph within the function you are trying to compile cannot be fused because it has multiple input nodes\n\n%0 = x                           # EncryptedScalar<uint1>\n^^^^^^^^^^^^^^^^^^^^^^^^^^^^^^^^^^^^^^^^^^^^^^^^^^^^^^^^^ this is one of the input nodes\n                                                          /tmp/ipykernel_2799/4197355302.py:2\n%1 = ones()                      # EncryptedScalar<uint1>\n^^^^^^^^^^^^^^^^^^^^^^^^^^^^^^^^^^^^^^^^^^^^^^^^^^^^^^^^^ this is one of the input nodes\n                                                          /tmp/ipykernel_2799/2657782328.py:4\n%2 = floor_divide(%0, %1)        # EncryptedScalar<uint1>\n^^^^^^^^^^^^^^^^^^^^^^^^^^^^^^^^^^^^^^^^^^^^^^^^^^^^^^^^^ within this subgraph\n                                                          /tmp/ipykernel_2799/2657782328.py:6\nreturn %2",
     "output_type": "error",
     "traceback": [
      "\u001b[0;31m---------------------------------------------------------------------------\u001b[0m",
      "\u001b[0;31mRuntimeError\u001b[0m                              Traceback (most recent call last)",
      "Cell \u001b[0;32mIn[22], line 2\u001b[0m\n\u001b[1;32m      1\u001b[0m inputset \u001b[39m=\u001b[39m [\u001b[39m1\u001b[39m,\u001b[39m2\u001b[39m,\u001b[39m3\u001b[39m,\u001b[39m5\u001b[39m,\u001b[39m6\u001b[39m,\u001b[39m7\u001b[39m,\u001b[39m8\u001b[39m,\u001b[39m9\u001b[39m]\n\u001b[0;32m----> 2\u001b[0m circuit \u001b[39m=\u001b[39m f\u001b[39m.\u001b[39;49mcompile(inputset)\n\u001b[1;32m      4\u001b[0m homomorphic_evaluation \u001b[39m=\u001b[39m circuit\u001b[39m.\u001b[39mencrypt_run_decrypt(\u001b[39m2\u001b[39m)\n\u001b[1;32m      5\u001b[0m \u001b[39mprint\u001b[39m(homomorphic_evaluation)\n",
      "File \u001b[0;32m~/Documents/TB/2023-allemano/lib/python3.10/site-packages/concrete/fhe/compilation/decorators.py:159\u001b[0m, in \u001b[0;36mcompiler.<locals>.decoration.<locals>.Compilable.compile\u001b[0;34m(self, inputset, configuration, artifacts, **kwargs)\u001b[0m\n\u001b[1;32m    131\u001b[0m \u001b[39mdef\u001b[39;00m \u001b[39mcompile\u001b[39m(\n\u001b[1;32m    132\u001b[0m     \u001b[39mself\u001b[39m,\n\u001b[1;32m    133\u001b[0m     inputset: Optional[Union[Iterable[Any], Iterable[Tuple[Any, \u001b[39m.\u001b[39m\u001b[39m.\u001b[39m\u001b[39m.\u001b[39m]]]] \u001b[39m=\u001b[39m \u001b[39mNone\u001b[39;00m,\n\u001b[0;32m   (...)\u001b[0m\n\u001b[1;32m    136\u001b[0m     \u001b[39m*\u001b[39m\u001b[39m*\u001b[39mkwargs,\n\u001b[1;32m    137\u001b[0m ) \u001b[39m-\u001b[39m\u001b[39m>\u001b[39m Circuit:\n\u001b[1;32m    138\u001b[0m \u001b[39m    \u001b[39m\u001b[39m\"\"\"\u001b[39;00m\n\u001b[1;32m    139\u001b[0m \u001b[39m    Compile the function into a circuit.\u001b[39;00m\n\u001b[1;32m    140\u001b[0m \n\u001b[0;32m   (...)\u001b[0m\n\u001b[1;32m    156\u001b[0m \u001b[39m            compiled circuit\u001b[39;00m\n\u001b[1;32m    157\u001b[0m \u001b[39m    \"\"\"\u001b[39;00m\n\u001b[0;32m--> 159\u001b[0m     \u001b[39mreturn\u001b[39;00m \u001b[39mself\u001b[39;49m\u001b[39m.\u001b[39;49mcompiler\u001b[39m.\u001b[39;49mcompile(inputset, configuration, artifacts, \u001b[39m*\u001b[39;49m\u001b[39m*\u001b[39;49mkwargs)\n",
      "File \u001b[0;32m~/Documents/TB/2023-allemano/lib/python3.10/site-packages/concrete/fhe/compilation/compiler.py:434\u001b[0m, in \u001b[0;36mCompiler.compile\u001b[0;34m(self, inputset, configuration, artifacts, **kwargs)\u001b[0m\n\u001b[1;32m    425\u001b[0m \u001b[39mself\u001b[39m\u001b[39m.\u001b[39martifacts \u001b[39m=\u001b[39m (\n\u001b[1;32m    426\u001b[0m     artifacts\n\u001b[1;32m    427\u001b[0m     \u001b[39mif\u001b[39;00m artifacts \u001b[39mis\u001b[39;00m \u001b[39mnot\u001b[39;00m \u001b[39mNone\u001b[39;00m\n\u001b[0;32m   (...)\u001b[0m\n\u001b[1;32m    430\u001b[0m     \u001b[39melse\u001b[39;00m \u001b[39mNone\u001b[39;00m\n\u001b[1;32m    431\u001b[0m )\n\u001b[1;32m    433\u001b[0m \u001b[39mtry\u001b[39;00m:\n\u001b[0;32m--> 434\u001b[0m     \u001b[39mself\u001b[39;49m\u001b[39m.\u001b[39;49m_evaluate(\u001b[39m\"\u001b[39;49m\u001b[39mCompiling\u001b[39;49m\u001b[39m\"\u001b[39;49m, inputset)\n\u001b[1;32m    435\u001b[0m     \u001b[39massert\u001b[39;00m \u001b[39mself\u001b[39m\u001b[39m.\u001b[39mgraph \u001b[39mis\u001b[39;00m \u001b[39mnot\u001b[39;00m \u001b[39mNone\u001b[39;00m\n\u001b[1;32m    437\u001b[0m     mlir \u001b[39m=\u001b[39m GraphConverter()\u001b[39m.\u001b[39mconvert(\u001b[39mself\u001b[39m\u001b[39m.\u001b[39mgraph, \u001b[39mself\u001b[39m\u001b[39m.\u001b[39mconfiguration)\n",
      "File \u001b[0;32m~/Documents/TB/2023-allemano/lib/python3.10/site-packages/concrete/fhe/compilation/compiler.py:279\u001b[0m, in \u001b[0;36mCompiler._evaluate\u001b[0;34m(self, action, inputset)\u001b[0m\n\u001b[1;32m    273\u001b[0m         message \u001b[39m=\u001b[39m (\n\u001b[1;32m    274\u001b[0m             \u001b[39mf\u001b[39m\u001b[39m\"\u001b[39m\u001b[39m{\u001b[39;00maction\u001b[39m}\u001b[39;00m\u001b[39m function \u001b[39m\u001b[39m'\u001b[39m\u001b[39m{\u001b[39;00m\u001b[39mself\u001b[39m\u001b[39m.\u001b[39mfunction\u001b[39m.\u001b[39m\u001b[39m__name__\u001b[39m\u001b[39m}\u001b[39;00m\u001b[39m'\u001b[39m\u001b[39m \u001b[39m\u001b[39m\"\u001b[39m\n\u001b[1;32m    275\u001b[0m             \u001b[39mf\u001b[39m\u001b[39m\"\u001b[39m\u001b[39mwithout an inputset is not supported\u001b[39m\u001b[39m\"\u001b[39m\n\u001b[1;32m    276\u001b[0m         )\n\u001b[1;32m    277\u001b[0m         \u001b[39mraise\u001b[39;00m \u001b[39mRuntimeError\u001b[39;00m(message) \u001b[39mfrom\u001b[39;00m \u001b[39merror\u001b[39;00m\n\u001b[0;32m--> 279\u001b[0m     \u001b[39mself\u001b[39;49m\u001b[39m.\u001b[39;49m_trace(first_sample)\n\u001b[1;32m    280\u001b[0m     \u001b[39massert\u001b[39;00m \u001b[39mself\u001b[39m\u001b[39m.\u001b[39mgraph \u001b[39mis\u001b[39;00m \u001b[39mnot\u001b[39;00m \u001b[39mNone\u001b[39;00m\n\u001b[1;32m    282\u001b[0m bounds \u001b[39m=\u001b[39m \u001b[39mself\u001b[39m\u001b[39m.\u001b[39mgraph\u001b[39m.\u001b[39mmeasure_bounds(\u001b[39mself\u001b[39m\u001b[39m.\u001b[39minputset)\n",
      "File \u001b[0;32m~/Documents/TB/2023-allemano/lib/python3.10/site-packages/concrete/fhe/compilation/compiler.py:211\u001b[0m, in \u001b[0;36mCompiler._trace\u001b[0;34m(self, sample)\u001b[0m\n\u001b[1;32m    208\u001b[0m \u001b[39mif\u001b[39;00m \u001b[39mself\u001b[39m\u001b[39m.\u001b[39martifacts \u001b[39mis\u001b[39;00m \u001b[39mnot\u001b[39;00m \u001b[39mNone\u001b[39;00m:\n\u001b[1;32m    209\u001b[0m     \u001b[39mself\u001b[39m\u001b[39m.\u001b[39martifacts\u001b[39m.\u001b[39madd_graph(\u001b[39m\"\u001b[39m\u001b[39minitial\u001b[39m\u001b[39m\"\u001b[39m, \u001b[39mself\u001b[39m\u001b[39m.\u001b[39mgraph)\n\u001b[0;32m--> 211\u001b[0m fuse(\u001b[39mself\u001b[39;49m\u001b[39m.\u001b[39;49mgraph, \u001b[39mself\u001b[39;49m\u001b[39m.\u001b[39;49martifacts)\n",
      "File \u001b[0;32m~/Documents/TB/2023-allemano/lib/python3.10/site-packages/concrete/fhe/compilation/utils.py:60\u001b[0m, in \u001b[0;36mfuse\u001b[0;34m(graph, artifacts)\u001b[0m\n\u001b[1;32m     57\u001b[0m all_nodes, start_nodes, terminal_node \u001b[39m=\u001b[39m subgraph_to_fuse\n\u001b[1;32m     58\u001b[0m processed_terminal_nodes\u001b[39m.\u001b[39madd(terminal_node)\n\u001b[0;32m---> 60\u001b[0m fused_node, node_before_subgraph \u001b[39m=\u001b[39m convert_subgraph_to_subgraph_node(\n\u001b[1;32m     61\u001b[0m     graph,\n\u001b[1;32m     62\u001b[0m     all_nodes,\n\u001b[1;32m     63\u001b[0m     start_nodes,\n\u001b[1;32m     64\u001b[0m     terminal_node,\n\u001b[1;32m     65\u001b[0m )\n\u001b[1;32m     66\u001b[0m nx_graph\u001b[39m.\u001b[39madd_node(fused_node)\n\u001b[1;32m     68\u001b[0m \u001b[39mif\u001b[39;00m terminal_node \u001b[39min\u001b[39;00m graph\u001b[39m.\u001b[39moutput_nodes\u001b[39m.\u001b[39mvalues():\n",
      "File \u001b[0;32m~/Documents/TB/2023-allemano/lib/python3.10/site-packages/concrete/fhe/compilation/utils.py:569\u001b[0m, in \u001b[0;36mconvert_subgraph_to_subgraph_node\u001b[0;34m(graph, all_nodes, start_nodes, terminal_node)\u001b[0m\n\u001b[1;32m    563\u001b[0m     \u001b[39mfor\u001b[39;00m variable_input_node \u001b[39min\u001b[39;00m variable_input_nodes:\n\u001b[1;32m    564\u001b[0m         base_highlighted_nodes[variable_input_node] \u001b[39m=\u001b[39m [\n\u001b[1;32m    565\u001b[0m             \u001b[39m\"\u001b[39m\u001b[39mthis is one of the input nodes\u001b[39m\u001b[39m\"\u001b[39m,\n\u001b[1;32m    566\u001b[0m             variable_input_node\u001b[39m.\u001b[39mlocation,\n\u001b[1;32m    567\u001b[0m         ]\n\u001b[0;32m--> 569\u001b[0m     \u001b[39mraise\u001b[39;00m \u001b[39mRuntimeError\u001b[39;00m(\n\u001b[1;32m    570\u001b[0m         \u001b[39m\"\u001b[39m\u001b[39mA subgraph within the function you are trying to compile cannot be fused \u001b[39m\u001b[39m\"\u001b[39m\n\u001b[1;32m    571\u001b[0m         \u001b[39m\"\u001b[39m\u001b[39mbecause it has multiple input nodes\u001b[39m\u001b[39m\\n\u001b[39;00m\u001b[39m\\n\u001b[39;00m\u001b[39m\"\u001b[39m\n\u001b[1;32m    572\u001b[0m         \u001b[39m+\u001b[39m graph\u001b[39m.\u001b[39mformat(highlighted_nodes\u001b[39m=\u001b[39mbase_highlighted_nodes, show_bounds\u001b[39m=\u001b[39m\u001b[39mFalse\u001b[39;00m)\n\u001b[1;32m    573\u001b[0m     )\n\u001b[1;32m    575\u001b[0m variable_input_node \u001b[39m=\u001b[39m variable_input_nodes[\u001b[39m0\u001b[39m]\n\u001b[1;32m    576\u001b[0m check_subgraph_fusability(graph, all_nodes, variable_input_node)\n",
      "\u001b[0;31mRuntimeError\u001b[0m: A subgraph within the function you are trying to compile cannot be fused because it has multiple input nodes\n\n%0 = x                           # EncryptedScalar<uint1>\n^^^^^^^^^^^^^^^^^^^^^^^^^^^^^^^^^^^^^^^^^^^^^^^^^^^^^^^^^ this is one of the input nodes\n                                                          /tmp/ipykernel_2799/4197355302.py:2\n%1 = ones()                      # EncryptedScalar<uint1>\n^^^^^^^^^^^^^^^^^^^^^^^^^^^^^^^^^^^^^^^^^^^^^^^^^^^^^^^^^ this is one of the input nodes\n                                                          /tmp/ipykernel_2799/2657782328.py:4\n%2 = floor_divide(%0, %1)        # EncryptedScalar<uint1>\n^^^^^^^^^^^^^^^^^^^^^^^^^^^^^^^^^^^^^^^^^^^^^^^^^^^^^^^^^ within this subgraph\n                                                          /tmp/ipykernel_2799/2657782328.py:6\nreturn %2"
     ]
    }
   ],
   "source": [
    "inputset = [1,2,3,5,6,7,8,9]\n",
    "circuit = f.compile(inputset)\n",
    "\n",
    "homomorphic_evaluation = circuit.encrypt_run_decrypt(2)\n",
    "print(homomorphic_evaluation)"
   ]
  },
  {
   "cell_type": "markdown",
   "metadata": {},
   "source": [
    "## Bad generation of the inputset"
   ]
  },
  {
   "cell_type": "code",
   "execution_count": 35,
   "metadata": {},
   "outputs": [],
   "source": [
    "@fhe.compiler({\"x\": \"encrypted\"})\n",
    "def f(x):\n",
    "    return x + 1"
   ]
  },
  {
   "cell_type": "code",
   "execution_count": 36,
   "metadata": {},
   "outputs": [
    {
     "ename": "ValueError",
     "evalue": "Expected argument 0 to be EncryptedScalar<uint4> but it's EncryptedScalar<uint7>",
     "output_type": "error",
     "traceback": [
      "\u001b[0;31m---------------------------------------------------------------------------\u001b[0m",
      "\u001b[0;31mValueError\u001b[0m                                Traceback (most recent call last)",
      "Cell \u001b[0;32mIn[36], line 4\u001b[0m\n\u001b[1;32m      1\u001b[0m inputset \u001b[39m=\u001b[39m [\u001b[39m1\u001b[39m,\u001b[39m2\u001b[39m,\u001b[39m3\u001b[39m,\u001b[39m5\u001b[39m,\u001b[39m6\u001b[39m,\u001b[39m7\u001b[39m,\u001b[39m8\u001b[39m,\u001b[39m9\u001b[39m]\n\u001b[1;32m      2\u001b[0m circuit \u001b[39m=\u001b[39m f\u001b[39m.\u001b[39mcompile(inputset)\n\u001b[0;32m----> 4\u001b[0m homomorphic_evaluation \u001b[39m=\u001b[39m circuit\u001b[39m.\u001b[39;49mencrypt_run_decrypt(\u001b[39m99\u001b[39;49m)\n\u001b[1;32m      5\u001b[0m \u001b[39mprint\u001b[39m(homomorphic_evaluation)\n",
      "File \u001b[0;32m~/Documents/TB/2023-allemano/lib/python3.10/site-packages/concrete/fhe/compilation/circuit.py:164\u001b[0m, in \u001b[0;36mCircuit.encrypt_run_decrypt\u001b[0;34m(self, *args)\u001b[0m\n\u001b[1;32m    151\u001b[0m \u001b[39mdef\u001b[39;00m \u001b[39mencrypt_run_decrypt\u001b[39m(\u001b[39mself\u001b[39m, \u001b[39m*\u001b[39margs: Any) \u001b[39m-\u001b[39m\u001b[39m>\u001b[39m Any:\n\u001b[1;32m    152\u001b[0m \u001b[39m    \u001b[39m\u001b[39m\"\"\"\u001b[39;00m\n\u001b[1;32m    153\u001b[0m \u001b[39m    Encrypt inputs, run the circuit, and decrypt the outputs in one go.\u001b[39;00m\n\u001b[1;32m    154\u001b[0m \n\u001b[0;32m   (...)\u001b[0m\n\u001b[1;32m    161\u001b[0m \u001b[39m            clear result of homomorphic evaluation\u001b[39;00m\n\u001b[1;32m    162\u001b[0m \u001b[39m    \"\"\"\u001b[39;00m\n\u001b[0;32m--> 164\u001b[0m     \u001b[39mreturn\u001b[39;00m \u001b[39mself\u001b[39m\u001b[39m.\u001b[39mdecrypt(\u001b[39mself\u001b[39m\u001b[39m.\u001b[39mrun(\u001b[39mself\u001b[39;49m\u001b[39m.\u001b[39;49mencrypt(\u001b[39m*\u001b[39;49margs)))\n",
      "File \u001b[0;32m~/Documents/TB/2023-allemano/lib/python3.10/site-packages/concrete/fhe/compilation/circuit.py:115\u001b[0m, in \u001b[0;36mCircuit.encrypt\u001b[0;34m(self, *args)\u001b[0m\n\u001b[1;32m    102\u001b[0m \u001b[39mdef\u001b[39;00m \u001b[39mencrypt\u001b[39m(\u001b[39mself\u001b[39m, \u001b[39m*\u001b[39margs: Union[\u001b[39mint\u001b[39m, np\u001b[39m.\u001b[39mndarray]) \u001b[39m-\u001b[39m\u001b[39m>\u001b[39m PublicArguments:\n\u001b[1;32m    103\u001b[0m \u001b[39m    \u001b[39m\u001b[39m\"\"\"\u001b[39;00m\n\u001b[1;32m    104\u001b[0m \u001b[39m    Prepare inputs to be run on the circuit.\u001b[39;00m\n\u001b[1;32m    105\u001b[0m \n\u001b[0;32m   (...)\u001b[0m\n\u001b[1;32m    112\u001b[0m \u001b[39m            encrypted and plain arguments as well as public keys\u001b[39;00m\n\u001b[1;32m    113\u001b[0m \u001b[39m    \"\"\"\u001b[39;00m\n\u001b[0;32m--> 115\u001b[0m     \u001b[39mreturn\u001b[39;00m \u001b[39mself\u001b[39;49m\u001b[39m.\u001b[39;49mclient\u001b[39m.\u001b[39;49mencrypt(\u001b[39m*\u001b[39;49margs)\n",
      "File \u001b[0;32m~/Documents/TB/2023-allemano/lib/python3.10/site-packages/concrete/fhe/compilation/client.py:179\u001b[0m, in \u001b[0;36mClient.encrypt\u001b[0;34m(self, *args)\u001b[0m\n\u001b[1;32m    175\u001b[0m         actual_value \u001b[39m=\u001b[39m Value\u001b[39m.\u001b[39mof(arg, is_encrypted\u001b[39m=\u001b[39mis_encrypted)\n\u001b[1;32m    176\u001b[0m         message \u001b[39m=\u001b[39m (\n\u001b[1;32m    177\u001b[0m             \u001b[39mf\u001b[39m\u001b[39m\"\u001b[39m\u001b[39mExpected argument \u001b[39m\u001b[39m{\u001b[39;00mindex\u001b[39m}\u001b[39;00m\u001b[39m to be \u001b[39m\u001b[39m{\u001b[39;00mexpected_value\u001b[39m}\u001b[39;00m\u001b[39m but it\u001b[39m\u001b[39m'\u001b[39m\u001b[39ms \u001b[39m\u001b[39m{\u001b[39;00mactual_value\u001b[39m}\u001b[39;00m\u001b[39m\"\u001b[39m\n\u001b[1;32m    178\u001b[0m         )\n\u001b[0;32m--> 179\u001b[0m         \u001b[39mraise\u001b[39;00m \u001b[39mValueError\u001b[39;00m(message)\n\u001b[1;32m    181\u001b[0m \u001b[39mself\u001b[39m\u001b[39m.\u001b[39mkeygen(force\u001b[39m=\u001b[39m\u001b[39mFalse\u001b[39;00m)\n\u001b[1;32m    182\u001b[0m keyset \u001b[39m=\u001b[39m \u001b[39mself\u001b[39m\u001b[39m.\u001b[39mkeys\u001b[39m.\u001b[39m_keyset  \u001b[39m# pylint: disable=protected-access\u001b[39;00m\n",
      "\u001b[0;31mValueError\u001b[0m: Expected argument 0 to be EncryptedScalar<uint4> but it's EncryptedScalar<uint7>"
     ]
    }
   ],
   "source": [
    "inputset = [1,2,3,5,6,7,8,9]\n",
    "circuit = f.compile(inputset)\n",
    "\n",
    "homomorphic_evaluation = circuit.encrypt_run_decrypt(99)\n",
    "print(homomorphic_evaluation)"
   ]
  }
 ],
 "metadata": {
  "kernelspec": {
   "display_name": "2023-allemano",
   "language": "python",
   "name": "python3"
  },
  "language_info": {
   "codemirror_mode": {
    "name": "ipython",
    "version": 3
   },
   "file_extension": ".py",
   "mimetype": "text/x-python",
   "name": "python",
   "nbconvert_exporter": "python",
   "pygments_lexer": "ipython3",
   "version": "3.10.12"
  },
  "orig_nbformat": 4
 },
 "nbformat": 4,
 "nbformat_minor": 2
}
