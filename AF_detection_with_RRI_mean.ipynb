{
 "cells": [
  {
   "attachments": {},
   "cell_type": "markdown",
   "metadata": {},
   "source": [
    "# AF detection using RRI mean"
   ]
  },
  {
   "attachments": {},
   "cell_type": "markdown",
   "metadata": {},
   "source": [
    "We first extract the x coordinate of each r_peak in a single normal sinus rythme ECG signal. To sea the plot of this ECG signal, please refer to the notebook [extraction.ipynb](ecg-features/notebooks/extraction.ipynb) (index 0)."
   ]
  },
  {
   "cell_type": "code",
   "execution_count": 1,
   "metadata": {},
   "outputs": [],
   "source": [
    "import numpy as np\n",
    "from concrete import fhe"
   ]
  },
  {
   "cell_type": "code",
   "execution_count": null,
   "metadata": {},
   "outputs": [],
   "source": [
    "def analysis_space_between_r_peaks(rpeaks_x):\n",
    "\n",
    "    # Print the rpeaks\n",
    "    print(\"Rpeaks:\", rpeaks_x)\n",
    "\n",
    "    # Compute the horizontal distance between each pair of points\n",
    "    distances = []\n",
    "    for i in range(len(rpeaks_x)-1):\n",
    "        x1 = rpeaks_x[i]\n",
    "        x2 = rpeaks_x[i+1]\n",
    "        distance = abs(x2 - x1)\n",
    "        distances.append(distance)\n",
    "\n",
    "        if i % 6 == 0:print(\"\")\n",
    "\n",
    "        print(i, \"->\", i+1, \":\", distance, end=\" || \")\n",
    "    print(\"\")\n",
    "\n",
    "    # Compute the mean of the distances\n",
    "    mean_distance = sum(distances) / len(distances)\n",
    "    print(\"\\nMean distance:\", mean_distance)\n",
    "\n",
    "    # Compute the median of the distances\n",
    "    sorted_distances = sorted(distances)\n",
    "    if len(sorted_distances) % 2 == 0:\n",
    "        median_distance = (sorted_distances[len(sorted_distances)//2-1] + sorted_distances[len(sorted_distances)//2]) / 2\n",
    "    else:\n",
    "        median_distance = sorted_distances[len(sorted_distances)//2]\n",
    "    print(\"Median distance:\", median_distance, end=\"\\n\\n\")\n",
    "\n",
    "    # If there is a distance that is more than 3% different from the mean, display it\n",
    "    threshold = 0.03\n",
    "\n",
    "    counter_of_outliers = 0\n",
    "\n",
    "    outliers_table = []\n",
    "\n",
    "    for i in range(len(distances)):\n",
    "        distance = distances[i]\n",
    "        if distance < mean_distance * (1 - threshold) or distance > mean_distance * (1 + threshold):\n",
    "            print(\"Distance\", i, \"to\", i+1, \"is\", distance, \"which is more than\", threshold*100, \"% different from the mean\")\n",
    "            counter_of_outliers += 1\n",
    "            outliers_table.append(1)\n",
    "        else:\n",
    "            outliers_table.append(0)\n",
    "    # Print the number of outliers with warn message about a possible Atrial fibrillation\n",
    "    if counter_of_outliers > 0:\n",
    "        print(\"\\nWARNING: There are\", counter_of_outliers, \"outliers. This may be a sign of Atrial fibrillation\")\n",
    "\n",
    "    # Print the outliers table\n",
    "    print(\"\\nOutliers table:\", outliers_table)"
   ]
  },
  {
   "cell_type": "code",
   "execution_count": 3,
   "metadata": {},
   "outputs": [
    {
     "name": "stdout",
     "output_type": "stream",
     "text": [
      "Rpeaks: [ 151  427  706  993 1282 1562 1849 2138 2419 2695 2981 3258 3528 3812\n",
      " 4088 4363 4651 4940 5215 5493 5779 6065 6341 6624 6911 7186 7473 7764\n",
      " 8040 8329 8615]\n",
      "\n",
      "0 -> 1 : 276 || 1 -> 2 : 279 || 2 -> 3 : 287 || 3 -> 4 : 289 || 4 -> 5 : 280 || 5 -> 6 : 287 || \n",
      "6 -> 7 : 289 || 7 -> 8 : 281 || 8 -> 9 : 276 || 9 -> 10 : 286 || 10 -> 11 : 277 || 11 -> 12 : 270 || \n",
      "12 -> 13 : 284 || 13 -> 14 : 276 || 14 -> 15 : 275 || 15 -> 16 : 288 || 16 -> 17 : 289 || 17 -> 18 : 275 || \n",
      "18 -> 19 : 278 || 19 -> 20 : 286 || 20 -> 21 : 286 || 21 -> 22 : 276 || 22 -> 23 : 283 || 23 -> 24 : 287 || \n",
      "24 -> 25 : 275 || 25 -> 26 : 287 || 26 -> 27 : 291 || 27 -> 28 : 276 || 28 -> 29 : 289 || 29 -> 30 : 286 || \n",
      "\n",
      "Mean distance: 282.1333333333333\n",
      "Median distance: 283.5\n",
      "\n",
      "Distance 11 to 12 is 270 which is more than 3.0 % different from the mean\n",
      "Distance 26 to 27 is 291 which is more than 3.0 % different from the mean\n",
      "\n",
      "WARNING: There are 2 outliers. This may be a sign of Atrial fibrillation\n",
      "\n",
      "Outliers table: [0, 0, 0, 0, 0, 0, 0, 0, 0, 0, 0, 1, 0, 0, 0, 0, 0, 0, 0, 0, 0, 0, 0, 0, 0, 0, 1, 0, 0, 0]\n"
     ]
    }
   ],
   "source": [
    "rpeaks_x = np.array(np.load('ecg-features/extracted_data/coord_x_r_peaks_A00021.npy'))\n",
    "\n",
    "analysis_space_between_r_peaks(rpeaks_x)"
   ]
  },
  {
   "attachments": {},
   "cell_type": "markdown",
   "metadata": {},
   "source": [
    "## Comparing with FHE"
   ]
  },
  {
   "cell_type": "code",
   "execution_count": null,
   "metadata": {},
   "outputs": [],
   "source": [
    "threshold = 0.03\n",
    "modified_threshold = int(threshold*100)\n",
    "\n",
    "@fhe.compiler({\"r_peaks\": \"encrypted\"})\n",
    "def analysis_space_between_r_peaks_fhe(r_peaks):\n",
    "\n",
    "    len_rri = r_peaks.size\n",
    "    \n",
    "    for i in range(len_rri-1):\n",
    "        r_peaks[i] = r_peaks[i+1]-r_peaks[i]\n",
    "\n",
    "    # version that do not use TLU (and so no float) and is faster\n",
    "    peaks_mean = np.floor_divide(sum(r_peaks[:-1]) , (len_rri-1))-modified_threshold\n",
    "\n",
    "    # version that use a TLU and is slower (~32min of execution)\n",
    "    # peaks_mean = (sum(r_peaks[:-1]) / (len_rri-1)).astype(np.int64)-modified_threshold\n",
    "\n",
    "    for i in range(len_rri):\n",
    "        r_peaks[i] = r_peaks[i] < peaks_mean\n",
    "    \n",
    "    return r_peaks"
   ]
  },
  {
   "cell_type": "code",
   "execution_count": null,
   "metadata": {},
   "outputs": [],
   "source": [
    "inputset = [np.random.randint(9000, size=31), np.random.randint(9000, size=31),np.random.randint(9000, size=31)]\n",
    "circuit = analysis_space_between_r_peaks_fhe.compile(inputset)"
   ]
  },
  {
   "cell_type": "code",
   "execution_count": null,
   "metadata": {},
   "outputs": [],
   "source": [
    "homomorphic_evaluation = circuit.encrypt_run_decrypt(rpeaks_x)\n",
    "print(homomorphic_evaluation)"
   ]
  },
  {
   "attachments": {},
   "cell_type": "markdown",
   "metadata": {},
   "source": [
    "## Conclusion\n",
    "we notive that the results are very close. Our small homemade algorithms work correctly. That said, we note that the FHE version did not raise any warning regarding the distance between the peaks 26 and 27. This is due to the fact that the homemade algorithm implemented with FHE does not take into account cases where the distance between two peaks is \"too large\". This is why it only raises the warning for the distance between the peaks 11 and 12."
   ]
  }
 ],
 "metadata": {
  "kernelspec": {
   "display_name": "2023-allemano",
   "language": "python",
   "name": "python3"
  },
  "language_info": {
   "codemirror_mode": {
    "name": "ipython",
    "version": 3
   },
   "file_extension": ".py",
   "mimetype": "text/x-python",
   "name": "python",
   "nbconvert_exporter": "python",
   "pygments_lexer": "ipython3",
   "version": "3.10.12"
  },
  "orig_nbformat": 4
 },
 "nbformat": 4,
 "nbformat_minor": 2
}
