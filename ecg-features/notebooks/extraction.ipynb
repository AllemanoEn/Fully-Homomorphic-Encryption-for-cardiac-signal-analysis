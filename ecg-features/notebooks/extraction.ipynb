{
 "cells": [
  {
   "attachments": {},
   "cell_type": "markdown",
   "metadata": {},
   "source": [
    "# ECG Feature Extractor\n",
    "## 2017 Physionet Challenge\n",
    "### Sebastian D. Goodfellow, Ph.D."
   ]
  },
  {
   "attachments": {},
   "cell_type": "markdown",
   "metadata": {},
   "source": [
    "# Setup Notebook"
   ]
  },
  {
   "cell_type": "code",
   "execution_count": 9,
   "metadata": {},
   "outputs": [
    {
     "name": "stdout",
     "output_type": "stream",
     "text": [
      "The autoreload extension is already loaded. To reload it, use:\n",
      "  %reload_ext autoreload\n"
     ]
    }
   ],
   "source": [
    "# Import 3rd party libraries\n",
    "import os\n",
    "import sys\n",
    "import numpy as np\n",
    "import pandas as pd\n",
    "import matplotlib.pylab as plt\n",
    "\n",
    "# Import local Libraries\n",
    "sys.path.insert(0, os.path.dirname(os.getcwd()))\n",
    "from features.feature_extractor import Features\n",
    "from utils.plotting.waveforms import plot_waveforms\n",
    "\n",
    "# Configure Notebook\n",
    "import warnings\n",
    "warnings.filterwarnings('ignore')\n",
    "%matplotlib inline\n",
    "%load_ext autoreload\n",
    "%autoreload 2"
   ]
  },
  {
   "attachments": {},
   "cell_type": "markdown",
   "metadata": {},
   "source": [
    "<br>\n",
    "# Set Constants"
   ]
  },
  {
   "cell_type": "code",
   "execution_count": 10,
   "metadata": {},
   "outputs": [],
   "source": [
    "# Sampling frequency (Hz)\n",
    "fs = 300  \n",
    "\n",
    "# Data paths\n",
    "label_path = os.path.join(os.path.dirname(os.getcwd()), 'data', 'labels')\n",
    "waveform_path = os.path.join(os.path.dirname(os.getcwd()), 'data', 'waveforms')\n",
    "feature_path = os.path.join(os.path.dirname(os.getcwd()), 'data', 'features')"
   ]
  },
  {
   "attachments": {},
   "cell_type": "markdown",
   "metadata": {},
   "source": [
    "# Import ECG Labels"
   ]
  },
  {
   "cell_type": "code",
   "execution_count": 11,
   "metadata": {},
   "outputs": [
    {
     "data": {
      "text/html": [
       "<div>\n",
       "<style scoped>\n",
       "    .dataframe tbody tr th:only-of-type {\n",
       "        vertical-align: middle;\n",
       "    }\n",
       "\n",
       "    .dataframe tbody tr th {\n",
       "        vertical-align: top;\n",
       "    }\n",
       "\n",
       "    .dataframe thead th {\n",
       "        text-align: right;\n",
       "    }\n",
       "</style>\n",
       "<table border=\"1\" class=\"dataframe\">\n",
       "  <thead>\n",
       "    <tr style=\"text-align: right;\">\n",
       "      <th></th>\n",
       "      <th>file_name</th>\n",
       "      <th>label</th>\n",
       "    </tr>\n",
       "  </thead>\n",
       "  <tbody>\n",
       "    <tr>\n",
       "      <th>0</th>\n",
       "      <td>A00021</td>\n",
       "      <td>N</td>\n",
       "    </tr>\n",
       "    <tr>\n",
       "      <th>1</th>\n",
       "      <td>A00022</td>\n",
       "      <td>~</td>\n",
       "    </tr>\n",
       "    <tr>\n",
       "      <th>2</th>\n",
       "      <td>A00023</td>\n",
       "      <td>O</td>\n",
       "    </tr>\n",
       "    <tr>\n",
       "      <th>3</th>\n",
       "      <td>A00024</td>\n",
       "      <td>O</td>\n",
       "    </tr>\n",
       "    <tr>\n",
       "      <th>4</th>\n",
       "      <td>A00025</td>\n",
       "      <td>N</td>\n",
       "    </tr>\n",
       "    <tr>\n",
       "      <th>5</th>\n",
       "      <td>A00026</td>\n",
       "      <td>N</td>\n",
       "    </tr>\n",
       "    <tr>\n",
       "      <th>6</th>\n",
       "      <td>A00027</td>\n",
       "      <td>A</td>\n",
       "    </tr>\n",
       "    <tr>\n",
       "      <th>7</th>\n",
       "      <td>A00028</td>\n",
       "      <td>N</td>\n",
       "    </tr>\n",
       "    <tr>\n",
       "      <th>8</th>\n",
       "      <td>A00029</td>\n",
       "      <td>O</td>\n",
       "    </tr>\n",
       "    <tr>\n",
       "      <th>9</th>\n",
       "      <td>A00030</td>\n",
       "      <td>O</td>\n",
       "    </tr>\n",
       "  </tbody>\n",
       "</table>\n",
       "</div>"
      ],
      "text/plain": [
       "  file_name label\n",
       "0    A00021     N\n",
       "1    A00022     ~\n",
       "2    A00023     O\n",
       "3    A00024     O\n",
       "4    A00025     N\n",
       "5    A00026     N\n",
       "6    A00027     A\n",
       "7    A00028     N\n",
       "8    A00029     O\n",
       "9    A00030     O"
      ]
     },
     "execution_count": 11,
     "metadata": {},
     "output_type": "execute_result"
    }
   ],
   "source": [
    "# Read labels CSV\n",
    "labels = pd.read_csv(os.path.join(label_path, 'labels.csv'), names=['file_name', 'label'])\n",
    "\n",
    "# View DataFrame\n",
    "labels.head(10)"
   ]
  },
  {
   "attachments": {},
   "cell_type": "markdown",
   "metadata": {},
   "source": [
    "# Plot ECG Waveforms"
   ]
  },
  {
   "cell_type": "code",
   "execution_count": 12,
   "metadata": {},
   "outputs": [
    {
     "data": {
      "application/vnd.jupyter.widget-view+json": {
       "model_id": "e12937f8e64a4bf8b37697e727f72421",
       "version_major": 2,
       "version_minor": 0
      },
      "text/plain": [
       "interactive(children=(IntSlider(value=4, description='index', max=9), Output()), _dom_classes=('widget-interac…"
      ]
     },
     "metadata": {},
     "output_type": "display_data"
    }
   ],
   "source": [
    "# Launch interactive plotting widget\n",
    "plot_waveforms(labels=labels, waveform_path=waveform_path, fs=fs)"
   ]
  },
  {
   "attachments": {},
   "cell_type": "markdown",
   "metadata": {},
   "source": [
    "# Extract Features"
   ]
  },
  {
   "cell_type": "code",
   "execution_count": 13,
   "metadata": {},
   "outputs": [
    {
     "name": "stdout",
     "output_type": "stream",
     "text": [
      "Finished extracting features from A00025.mat | Extraction time: 0.003 minutes\n",
      "Finished extracting features from A00022.mat | Extraction time: 0.003 minutes\n",
      "Finished extracting features from A00026.mat | Extraction time: 0.003 minutes\n",
      "Finished extracting features from A00029.mat | Extraction time: 0.003 minutes\n",
      "Finished extracting features from A00030.mat | Extraction time: 0.003 minutes\n",
      "Finished extracting features from A00024.mat | Extraction time: 0.004 minutes\n",
      "Finished extracting features from A00028.mat | Extraction time: 0.004 minutes\n",
      "Finished extracting features from A00023.mat | Extraction time: 0.003 minutes\n",
      "Finished extracting features from A00027.mat | Extraction time: 0.003 minutes\n",
      "Finished extracting features from A00021.mat | Extraction time: 0.003 minutes\n"
     ]
    }
   ],
   "source": [
    "# Instantiate\n",
    "ecg_features = Features(file_path=waveform_path, fs=fs, feature_groups=['rri_features'])\n",
    "\n",
    "# Calculate ECG features\n",
    "ecg_features.extract_features(\n",
    "    filter_bandwidth=[3, 45], n_signals=None, show=True, \n",
    "    labels=labels, normalize=True, polarity_check=True,\n",
    "    template_before=0.25, template_after=0.4\n",
    ")"
   ]
  },
  {
   "cell_type": "code",
   "execution_count": 14,
   "metadata": {},
   "outputs": [
    {
     "name": "stdout",
     "output_type": "stream",
     "text": [
      "[ 151  427  706  993 1282 1562 1849 2138 2419 2695 2981 3258 3528 3812\n",
      " 4088 4363 4651 4940 5215 5493 5779 6065 6341 6624 6911 7186 7473 7764\n",
      " 8040 8329 8615]\n",
      "0.9415476190476191\n",
      "-0.000641025641025643\n"
     ]
    }
   ],
   "source": [
    "# Get features DataFrame\n",
    "features = ecg_features.get_features()\n",
    "\n",
    "# Display all available features\n",
    "# print(features.columns)\n",
    "\n",
    "# Display only  the rpeaks_enzo column\n",
    "print(features['rpeaks_x_enzo'][0])\n",
    "\n",
    "# Display only the rri_mean column\n",
    "print(features['rri_mean'][0])\n",
    "\n",
    "# Display only the diff2_rri_mean column\n",
    "print(features['diff2_rri_mean'][0])\n"
   ]
  },
  {
   "attachments": {},
   "cell_type": "markdown",
   "metadata": {},
   "source": [
    "# Extraction des coordonnées x des points r_peaks"
   ]
  },
  {
   "cell_type": "code",
   "execution_count": 15,
   "metadata": {},
   "outputs": [],
   "source": [
    "# extract rpeaks_enzo column into a numpy array\n",
    "coord_x_rpeaks = np.array(features['rpeaks_x_enzo'][0])\n",
    "np.save('../extracted_data/coord_x_r_peaks_A00021.npy',coord_x_rpeaks)"
   ]
  },
  {
   "attachments": {},
   "cell_type": "markdown",
   "metadata": {},
   "source": [
    "### A update dans le rapport\n",
    "Ce n'est pas vrm une bonne idée de regarder la distance entre chaque pique. Il faudrait plutôt regarder les bpm et voir si ils sont dans la norme. (si < que 60 alors bradycardie, si > que 100 alors tachycardie)\n",
    "\n",
    "Egalement préciser pourquoi 3% ? parce que c'est un nombre qui a été trouvé par essai erreur et qui donne de bons résultats."
   ]
  },
  {
   "attachments": {},
   "cell_type": "markdown",
   "metadata": {
    "collapsed": true
   },
   "source": [
    "# Save Features"
   ]
  },
  {
   "cell_type": "code",
   "execution_count": 16,
   "metadata": {},
   "outputs": [],
   "source": [
    "# Save features DataFrame to CSV\n",
    "features.to_csv(os.path.join(feature_path, 'features.csv'), index=False)"
   ]
  }
 ],
 "metadata": {
  "kernelspec": {
   "display_name": "TB-venv",
   "language": "python",
   "name": "python3"
  },
  "language_info": {
   "codemirror_mode": {
    "name": "ipython",
    "version": 3
   },
   "file_extension": ".py",
   "mimetype": "text/x-python",
   "name": "python",
   "nbconvert_exporter": "python",
   "pygments_lexer": "ipython3",
   "version": "3.6.15"
  },
  "vscode": {
   "interpreter": {
    "hash": "bc366092029a00c5b2e32794a5e45a46804f7f43381180e3e9b909a27a4846b7"
   }
  }
 },
 "nbformat": 4,
 "nbformat_minor": 1
}
